{
  "nbformat": 4,
  "nbformat_minor": 0,
  "metadata": {
    "colab": {
      "provenance": []
    },
    "kernelspec": {
      "name": "python3",
      "display_name": "Python 3"
    },
    "language_info": {
      "name": "python"
    }
  },
  "cells": [
    {
      "cell_type": "code",
      "execution_count": 1,
      "metadata": {
        "id": "40wTiNn2JciN",
        "colab": {
          "base_uri": "https://localhost:8080/"
        },
        "outputId": "7b078bd8-6f89-4bfd-89d6-65250a914aef"
      },
      "outputs": [
        {
          "output_type": "stream",
          "name": "stderr",
          "text": [
            "[nltk_data] Downloading package averaged_perceptron_tagger to\n",
            "[nltk_data]     /root/nltk_data...\n",
            "[nltk_data]   Unzipping taggers/averaged_perceptron_tagger.zip.\n",
            "[nltk_data] Downloading package wordnet to /root/nltk_data...\n",
            "[nltk_data] Downloading package cmudict to /root/nltk_data...\n",
            "[nltk_data]   Unzipping corpora/cmudict.zip.\n"
          ]
        },
        {
          "output_type": "execute_result",
          "data": {
            "text/plain": [
              "True"
            ]
          },
          "metadata": {},
          "execution_count": 1
        }
      ],
      "source": [
        "import pandas as pd\n",
        "import numpy as np\n",
        "from nltk import pos_tag\n",
        "from nltk.tokenize import sent_tokenize, word_tokenize\n",
        "from nltk.corpus import wordnet as wn, cmudict\n",
        "\n",
        "import gensim\n",
        "from gensim.models import Word2Vec\n",
        "\n",
        "import re\n",
        "import math\n",
        "from tqdm import tqdm\n",
        "\n",
        "import warnings\n",
        "warnings.filterwarnings(action = 'ignore')\n",
        "\n",
        "import nltk\n",
        "nltk.download('averaged_perceptron_tagger')\n",
        "nltk.download('wordnet')\n",
        "nltk.download('cmudict')"
      ]
    },
    {
      "cell_type": "code",
      "source": [
        "# Read the dataset\n",
        "dataset = pd.read_csv(r\"/content/drive/MyDrive/CSC791:NLP/project/dataset.csv\")\n",
        "# Separate the X(jokes) and the Y(is_humor or not)\n",
        "\n",
        "jokes = list(dataset['text'])\n",
        "labels = list(dataset['humor'])"
      ],
      "metadata": {
        "id": "uj0WMTcKJw97"
      },
      "execution_count": 2,
      "outputs": []
    },
    {
      "cell_type": "code",
      "source": [
        "def clean_data(jokes):\n",
        "    \"\"\"\n",
        "    \"\"\"\n",
        "    PATTERN = r'[^A-Za-z0-9\\s]'\n",
        "\n",
        "    words_list = []\n",
        "    for joke in jokes:\n",
        "        joke = joke.lower()\n",
        "        processed_joke = re.sub(PATTERN, '', joke)\n",
        "        words = processed_joke.split(' ')\n",
        "        words_list.append(words)\n",
        "\n",
        "    return words_list"
      ],
      "metadata": {
        "id": "tAvl_tRIKvj9"
      },
      "execution_count": 3,
      "outputs": []
    },
    {
      "cell_type": "code",
      "source": [
        "words_list = clean_data(jokes)\n",
        "len(words_list)"
      ],
      "metadata": {
        "colab": {
          "base_uri": "https://localhost:8080/"
        },
        "id": "zLQ9uI6aKwrD",
        "outputId": "52b26d41-5810-4135-a4ac-d878b9f2eb53"
      },
      "execution_count": 4,
      "outputs": [
        {
          "output_type": "execute_result",
          "data": {
            "text/plain": [
              "200000"
            ]
          },
          "metadata": {},
          "execution_count": 4
        }
      ]
    },
    {
      "cell_type": "code",
      "source": [
        "cbow = Word2Vec(words_list, min_count = 1,\n",
        "                              vector_size = 10, window = 5)"
      ],
      "metadata": {
        "id": "sZPDhDJaMN04"
      },
      "execution_count": 5,
      "outputs": []
    },
    {
      "cell_type": "code",
      "source": [
        "skip_gram = Word2Vec(words_list, min_count = 1, vector_size = 100,\n",
        "                                             window = 5, sg = 1)"
      ],
      "metadata": {
        "id": "RfkR5lN2NHLd"
      },
      "execution_count": null,
      "outputs": []
    },
    {
      "cell_type": "markdown",
      "source": [
        "### Incongruity"
      ],
      "metadata": {
        "id": "OzY_a_6lNcW0"
      }
    },
    {
      "cell_type": "code",
      "source": [
        "max_threshold = 1  # Set maximum threshold as 1 because distance of word from itself will be 1\n",
        "disconnection_list = []\n",
        "repetition_list = []\n",
        "for sentence in tqdm(words_list, desc=\"Processing Sentences\"):\n",
        "    sentence_word_distances = []\n",
        "    for i in range(len(sentence)):\n",
        "        for j in range(i + 1, len(sentence)):\n",
        "            distance = cbow.wv.similarity(sentence[i], sentence[j])\n",
        "            if distance < max_threshold:\n",
        "                sentence_word_distances.append(distance)\n",
        "    # Check if the sentence_word_distances list is not empty before calculating disconnection and repetition\n",
        "    if sentence_word_distances:\n",
        "        disconnection = max(sentence_word_distances)\n",
        "        repetition = min(sentence_word_distances)\n",
        "    else:\n",
        "        disconnection = None\n",
        "        repetition = None\n",
        "    disconnection_list.append(disconnection)\n",
        "    repetition_list.append(repetition)"
      ],
      "metadata": {
        "colab": {
          "base_uri": "https://localhost:8080/"
        },
        "id": "Gjhu7Afiuqf3",
        "outputId": "8483fa5d-2418-4e1c-bfa9-4949190fa70e"
      },
      "execution_count": null,
      "outputs": [
        {
          "output_type": "stream",
          "name": "stderr",
          "text": [
            "Processing Sentences: 100%|██████████| 200000/200000 [04:41<00:00, 710.13it/s]\n"
          ]
        }
      ]
    },
    {
      "cell_type": "code",
      "source": [
        "def incongruity(word2vec_model, words_list):\n",
        "  max_threshold = 1  # Set maximum threshold as 1 because distance of word from itself will be 1\n",
        "  disconnection_list = []\n",
        "  repetition_list = []\n",
        "  for sentence in tqdm(words_list, desc=\"Processing Sentences\"):\n",
        "      sentence_word_distances = []\n",
        "      for i in range(len(sentence)):\n",
        "          for j in range(i + 1, len(sentence)):\n",
        "              distance = word2vec_model.wv.similarity(sentence[i], sentence[j])\n",
        "              if distance < max_threshold:\n",
        "                  sentence_word_distances.append(distance)\n",
        "      # Check if the sentence_word_distances list is not empty before calculating disconnection and repetition\n",
        "      if sentence_word_distances:\n",
        "          disconnection = max(sentence_word_distances)\n",
        "          repetition = min(sentence_word_distances)\n",
        "      else:\n",
        "          disconnection = None\n",
        "          repetition = None\n",
        "      disconnection_list.append(disconnection)\n",
        "      repetition_list.append(repetition)\n",
        "  return disconnection_list, repetition_list"
      ],
      "metadata": {
        "id": "AMQRq1U3g34n"
      },
      "execution_count": null,
      "outputs": []
    },
    {
      "cell_type": "code",
      "source": [
        "disconnection_list, repetition_list = incongruity(cbow, words_list)"
      ],
      "metadata": {
        "colab": {
          "base_uri": "https://localhost:8080/"
        },
        "id": "Ke0N6CCbhGvu",
        "outputId": "767f6afa-12e5-4114-e8b0-b1832715d12e"
      },
      "execution_count": null,
      "outputs": [
        {
          "output_type": "stream",
          "name": "stderr",
          "text": [
            "Processing Sentences: 100%|██████████| 200000/200000 [04:53<00:00, 680.77it/s]\n"
          ]
        }
      ]
    },
    {
      "cell_type": "code",
      "source": [
        "incongruity_df = pd.DataFrame({'Disconnection': disconnection_list,\n",
        "    'Repetition': repetition_list\n",
        "})"
      ],
      "metadata": {
        "id": "ZOFoBqF00ryO"
      },
      "execution_count": null,
      "outputs": []
    },
    {
      "cell_type": "code",
      "source": [
        "incongruity_df.to_csv('/content/drive/MyDrive/CSC791:NLP/project/incongruity_features.csv')"
      ],
      "metadata": {
        "id": "eC-np0hrGoz7"
      },
      "execution_count": null,
      "outputs": []
    },
    {
      "cell_type": "markdown",
      "source": [
        "##### Normalize us option"
      ],
      "metadata": {
        "id": "w9VY2ENU4hze"
      }
    },
    {
      "cell_type": "code",
      "source": [
        "from sklearn.model_selection import train_test_split\n",
        "from sklearn.tree import DecisionTreeClassifier\n",
        "from sklearn.metrics import classification_report\n",
        "\n",
        "\n",
        "train_data_X, test_data_X, train_data_Y, test_data_Y = train_test_split(incongruity_df, labels, test_size=0.7)\n",
        "model = DecisionTreeClassifier()\n",
        "model.fit(train_data_X, train_data_Y)\n",
        "model.score(train_data_X, train_data_Y)"
      ],
      "metadata": {
        "colab": {
          "base_uri": "https://localhost:8080/"
        },
        "id": "ffLc1VWl1TYG",
        "outputId": "bb96e039-9c2b-436c-e492-a629766e5096"
      },
      "execution_count": null,
      "outputs": [
        {
          "output_type": "execute_result",
          "data": {
            "text/plain": [
              "0.9933166666666666"
            ]
          },
          "metadata": {},
          "execution_count": 11
        }
      ]
    },
    {
      "cell_type": "code",
      "source": [
        "preds = model.predict(test_data_X)\n",
        "print(classification_report(preds, test_data_Y))\n"
      ],
      "metadata": {
        "colab": {
          "base_uri": "https://localhost:8080/"
        },
        "id": "1KVsDZf02fjf",
        "outputId": "e81c3fcd-f40d-4bc0-a316-9eb094eae52f"
      },
      "execution_count": null,
      "outputs": [
        {
          "output_type": "stream",
          "name": "stdout",
          "text": [
            "              precision    recall  f1-score   support\n",
            "\n",
            "       False       0.63      0.64      0.64     68795\n",
            "        True       0.65      0.64      0.65     71205\n",
            "\n",
            "    accuracy                           0.64    140000\n",
            "   macro avg       0.64      0.64      0.64    140000\n",
            "weighted avg       0.64      0.64      0.64    140000\n",
            "\n"
          ]
        }
      ]
    },
    {
      "cell_type": "markdown",
      "source": [
        "### Ambiguity\n",
        "#### 3 Features: Sense combination, closest path similarity, farmos path similarity"
      ],
      "metadata": {
        "id": "VIN9QUPo4mm-"
      }
    },
    {
      "cell_type": "code",
      "source": [
        "# Get POS TAGS for all sentences in words_list\n",
        "tagged_sentences = []\n",
        "for sentence in tqdm(words_list):\n",
        "  tagged_sentence = pos_tag(sentence)\n",
        "  tagged_sentences.append(tagged_sentence)"
      ],
      "metadata": {
        "colab": {
          "base_uri": "https://localhost:8080/"
        },
        "id": "fy05gfLa6G5N",
        "outputId": "6eda6ad5-9fd1-4ce6-cfd9-51063c7acc13"
      },
      "execution_count": null,
      "outputs": [
        {
          "output_type": "stream",
          "name": "stderr",
          "text": [
            "100%|██████████| 200000/200000 [03:25<00:00, 974.38it/s]\n"
          ]
        }
      ]
    },
    {
      "cell_type": "code",
      "source": [
        "# Separate lists of POS and append in respective lists\n",
        "# Noun -> NN/NNS, Verb -> VB, Adjective -> JJ, Adverb -> RP/RB, Numeric -> CD, Determiner -> DT | however D and C do not work in WordNet\n",
        "pos_tagged_sentences = []\n",
        "for tagged_words in tqdm(tagged_sentences):\n",
        "  pos_words = {'NOUN': [], 'VERB': [], 'ADJ': [], 'ADV': [], 'DET': [], 'NUM': []}\n",
        "  for word, pos in tagged_words:\n",
        "    if pos.startswith('N'):\n",
        "        pos_words['NOUN'].append(word)\n",
        "    elif pos.startswith('V'):\n",
        "        pos_words['VERB'].append(word)\n",
        "    elif pos.startswith('J'):\n",
        "        pos_words['ADJ'].append(word)\n",
        "    elif pos.startswith('R'):\n",
        "        pos_words['ADV'].append(word)\n",
        "  pos_tagged_sentences.append(pos_words)\n"
      ],
      "metadata": {
        "colab": {
          "base_uri": "https://localhost:8080/"
        },
        "id": "I0p3zzPD6G0-",
        "outputId": "a33cc3c7-5456-40ba-e724-407706309462"
      },
      "execution_count": null,
      "outputs": [
        {
          "output_type": "stream",
          "name": "stderr",
          "text": [
            "100%|██████████| 200000/200000 [00:04<00:00, 42905.36it/s]\n"
          ]
        }
      ]
    },
    {
      "cell_type": "code",
      "source": [
        "# Function to get Sentences along with POS Tags\n",
        "def get_pos_tagged_sentences(words_list):\n",
        "    \"\"\"\n",
        "    \"\"\"\n",
        "    tagged_sentences = []\n",
        "    pos_tagged_sentences = []\n",
        "\n",
        "    print(f\"Getting POS Tags for each sentence\")\n",
        "    for sentence in tqdm(words_list):\n",
        "        tagged_sentence = pos_tag(sentence)\n",
        "        tagged_sentences.append(tagged_sentence)\n",
        "\n",
        "    print(f\"Getting POS Tags Lists each sentence\")\n",
        "    for tagged_words in tqdm(tagged_sentences):\n",
        "        pos_words = {'NOUN': [], 'VERB': [], 'ADJ': [], 'ADV': [], 'DET': [], 'NUM': []}\n",
        "        for word, pos in tagged_words:\n",
        "            if pos.startswith('N'):\n",
        "                pos_words['NOUN'].append(word)\n",
        "            elif pos.startswith('V'):\n",
        "                pos_words['VERB'].append(word)\n",
        "            elif pos.startswith('J'):\n",
        "                pos_words['ADJ'].append(word)\n",
        "            elif pos.startswith('R'):\n",
        "                pos_words['ADV'].append(word)\n",
        "        pos_tagged_sentences.append(pos_words)\n",
        "\n",
        "    return pos_tagged_sentences"
      ],
      "metadata": {
        "id": "r6mBwWPflqMa"
      },
      "execution_count": null,
      "outputs": []
    },
    {
      "cell_type": "code",
      "source": [
        "pos_tagged_sentences = get_pos_tagged_sentences(words_list)"
      ],
      "metadata": {
        "colab": {
          "base_uri": "https://localhost:8080/"
        },
        "id": "jT76AnMslrOp",
        "outputId": "12201a0a-c91f-41c7-9a42-898e0b5db6e6"
      },
      "execution_count": null,
      "outputs": [
        {
          "output_type": "stream",
          "name": "stdout",
          "text": [
            "Getting POS Tags for each sentence\n"
          ]
        },
        {
          "output_type": "stream",
          "name": "stderr",
          "text": [
            "100%|██████████| 200000/200000 [03:51<00:00, 864.49it/s]\n"
          ]
        },
        {
          "output_type": "stream",
          "name": "stdout",
          "text": [
            "Getting POS Tags Lists each sentence\n"
          ]
        },
        {
          "output_type": "stream",
          "name": "stderr",
          "text": [
            "100%|██████████| 200000/200000 [00:06<00:00, 32802.23it/s]\n"
          ]
        }
      ]
    },
    {
      "cell_type": "code",
      "source": [
        "sense_combination = 0\n",
        "for pos, words in pos_tagged_sentences[2].items():\n",
        "  for word in words:\n",
        "    synsets = wn.synsets(word, pos=pos[0].lower())\n",
        "    if synsets:\n",
        "      num_senses = len(synsets)\n",
        "      sense_combination += math.log(num_senses)\n",
        "      # print(sense_combination)\n",
        "sense_combination = math.exp(sense_combination)\n",
        "print(sense_combination)"
      ],
      "metadata": {
        "colab": {
          "base_uri": "https://localhost:8080/"
        },
        "id": "HGMJqxb86GwP",
        "outputId": "cb14216a-3215-47e4-89ea-6b89e49cc26b"
      },
      "execution_count": null,
      "outputs": [
        {
          "output_type": "stream",
          "name": "stdout",
          "text": [
            "728.0\n"
          ]
        }
      ]
    },
    {
      "cell_type": "code",
      "source": [
        "# Calculate closest and farmost sense of a given word from WordNet SYNSETS by finding all other senses\n",
        "path_similarities = []\n",
        "for words in pos_tagged_sentences[2].values():\n",
        "  for word in words:\n",
        "    synsets = wn.synsets(word)\n",
        "    if synsets:\n",
        "      # for each sense of same word, find similarity\n",
        "      for synset in synsets:\n",
        "        # Compare the similarity of our word sense with other word senses (of same word)\n",
        "        similarities = [synset.path_similarity(other) for other in synsets if other != synset and other.path_similarity(synset)]\n",
        "        if similarities:\n",
        "          path_similarities.extend(similarities)\n",
        "\n",
        "sense_farmost = max(path_similarities) if path_similarities else None\n",
        "sense_closest = min(path_similarities) if path_similarities else None\n"
      ],
      "metadata": {
        "colab": {
          "base_uri": "https://localhost:8080/"
        },
        "id": "Bfkq7GGPKFhX",
        "outputId": "ebbf5a30-56d1-447e-cfa4-45a8b5b057f5"
      },
      "execution_count": null,
      "outputs": [
        {
          "output_type": "stream",
          "name": "stdout",
          "text": [
            "0.3333333333333333\n",
            "0.043478260869565216\n"
          ]
        }
      ]
    },
    {
      "cell_type": "code",
      "source": [
        "# Get sense combiination score\n",
        "def sense_comination(pos_tagged_sentences):\n",
        "    sense_combination_list = []\n",
        "    for sentence in tqdm(pos_tagged_sentences):\n",
        "        sense_combination = 0\n",
        "        for pos, words in sentence.items():\n",
        "            for word in words:\n",
        "                synsets = wn.synsets(word, pos=pos[0].lower())\n",
        "                if synsets:\n",
        "                    num_senses = len(synsets)\n",
        "                    sense_combination += math.log(num_senses) ##################### CHECK FORMULA ###################\n",
        "        sense_combination = math.exp(sense_combination)\n",
        "        sense_combination_list.append(sense_combination)\n",
        "\n",
        "    return sense_combination_list\n",
        "\n",
        "sense_combination_score = sense_comination(pos_tagged_sentences)\n",
        "len(sense_combination_score)"
      ],
      "metadata": {
        "colab": {
          "base_uri": "https://localhost:8080/"
        },
        "id": "ATspTvahJDEa",
        "outputId": "2b8a8c81-6fbc-484e-e5c7-fa5c41384ec6"
      },
      "execution_count": null,
      "outputs": [
        {
          "output_type": "stream",
          "name": "stderr",
          "text": [
            "100%|██████████| 200000/200000 [00:30<00:00, 6559.97it/s] \n"
          ]
        },
        {
          "output_type": "execute_result",
          "data": {
            "text/plain": [
              "200000"
            ]
          },
          "metadata": {},
          "execution_count": 15
        }
      ]
    },
    {
      "cell_type": "code",
      "source": [
        "ambiguity_features_scs_df = pd.DataFrame({'SenseCombScore': sense_combination_score})\n",
        "\n",
        "ambiguity_features_scs_df.to_csv('/content/drive/MyDrive/CSC791:NLP/project/ambiguity_features_scs.csv')"
      ],
      "metadata": {
        "id": "9oOL_jGVJtBN"
      },
      "execution_count": null,
      "outputs": []
    },
    {
      "cell_type": "code",
      "source": [
        "# # Get Sense Farmost and Closest Path Similarity\n",
        "# sense_farmost_list = []\n",
        "# sense_closest_list = []\n",
        "\n",
        "# for sentence in tqdm(pos_tagged_sentences):\n",
        "#   path_similarities = []\n",
        "#   for words in sentence.values():\n",
        "#     for word in words:\n",
        "#       synsets = wn.synsets(word)\n",
        "#       if synsets:\n",
        "#         # for each sense of same word, find similarity\n",
        "#         for synset in synsets:\n",
        "#           # Compare the similarity of our word sense with other word senses (of same word)\n",
        "#           similarities = [synset.path_similarity(other) for other in synsets if other != synset and other.path_similarity(synset)]\n",
        "#           if similarities:\n",
        "#             path_similarities.extend(similarities)\n",
        "#   sense_farmost = max(path_similarities) if path_similarities else None\n",
        "#   sense_closest = min(path_similarities) if path_similarities else None\n",
        "#   sense_farmost_list.append(sense_farmost)\n",
        "#   sense_closest_list.append(sense_closest)"
      ],
      "metadata": {
        "id": "ku0feJCu6GpQ"
      },
      "execution_count": null,
      "outputs": []
    },
    {
      "cell_type": "markdown",
      "source": [
        "### Phonetic Style"
      ],
      "metadata": {
        "id": "9h8jxvjr4tLb"
      }
    },
    {
      "cell_type": "markdown",
      "source": [
        "### For all"
      ],
      "metadata": {
        "id": "5RNpKFZVrnj0"
      }
    },
    {
      "cell_type": "code",
      "source": [
        "import collections\n",
        "d = cmudict.dict()\n",
        "\n",
        "# Function to get Phonetic representations of word\n",
        "def get_phonemes(word):\n",
        "    \"\"\"\n",
        "    Get phonetic representation of a word from CMU Pronouncing Dictionary\n",
        "    \"\"\"\n",
        "    return d[word][0] if word in d else None\n",
        "\n",
        "\n",
        "def get_alliteration_rhyme_chains(words):\n",
        "    \"\"\"\n",
        "    Returns\n",
        "    For exploration\n",
        "    ---------\n",
        "    start_phenome : dictionary containing all the starting phonemes\n",
        "    end_phenome : dictionary containing all the ending phonemes\n",
        "    ---------\n",
        "\n",
        "    The features\n",
        "    -----\n",
        "    len(start_phenome.values()) : the total number of starting phonemes -> number of alliteration chains\n",
        "    len(end_phenome.values()) : the total number of ending phonemes -> number of rhyme chains\n",
        "    max(start_phenome.values()) : The max values of the alliteration string -> maximum length of alliteration chains\n",
        "    max(end_phenome.values()) : The max values of the alliteration string -> maximum length of rhyme chains\n",
        "    ------\n",
        "    \"\"\"\n",
        "    start_phenome = collections.defaultdict(int)\n",
        "    end_phenome = collections.defaultdict(int)\n",
        "    for word in words:\n",
        "        phonemes = get_phonemes(word)\n",
        "        if phonemes:\n",
        "            start_phenome[phonemes[0]]+=1\n",
        "            end_phenome[phonemes[-1]]+=1\n",
        "    if start_phenome and end_phenome:\n",
        "        return start_phenome, end_phenome, len(start_phenome.values()), len(end_phenome.values()), max(start_phenome.values()), max(end_phenome.values())\n",
        "    elif start_phenome:\n",
        "        return start_phenome, end_phenome, len(start_phenome.values()), len(end_phenome.values()), max(start_phenome.values()), 0\n",
        "    elif start_phenome:\n",
        "        return start_phenome, end_phenome, len(start_phenome.values()), len(end_phenome.values()), 0, max(end_phenome.values())\n",
        "    else:\n",
        "        return start_phenome, end_phenome, len(start_phenome.values()), len(end_phenome.values()), 0, 0\n",
        "\n"
      ],
      "metadata": {
        "id": "UB2gq5DirLQm"
      },
      "execution_count": 7,
      "outputs": []
    },
    {
      "cell_type": "code",
      "source": [
        "phonetic_style_features = []\n",
        "sps = []\n",
        "eps = []\n",
        "for sentence in tqdm(jokes):\n",
        "    sp, ep, num_alliteration_chains, num_rhyme_chains, max_all_chain, max_rhyme_chain = get_alliteration_rhyme_chains(sentence.split(' '))\n",
        "    sps.append(sp)\n",
        "    eps.append(ep)\n",
        "    phonetic_style_features.append((num_alliteration_chains, num_rhyme_chains, max_all_chain, max_rhyme_chain))"
      ],
      "metadata": {
        "colab": {
          "base_uri": "https://localhost:8080/"
        },
        "id": "AZpDJh_t-_vb",
        "outputId": "444aa1db-efa3-4fee-c791-870a78476bbd"
      },
      "execution_count": 8,
      "outputs": [
        {
          "output_type": "stream",
          "name": "stderr",
          "text": [
            "100%|██████████| 200000/200000 [00:04<00:00, 49908.41it/s]\n"
          ]
        }
      ]
    },
    {
      "cell_type": "code",
      "source": [
        "len(phonetic_style_features)"
      ],
      "metadata": {
        "colab": {
          "base_uri": "https://localhost:8080/"
        },
        "id": "7q0W3m3RsuNL",
        "outputId": "fb742b0e-58b9-4225-bd71-13fbca973b4f"
      },
      "execution_count": 10,
      "outputs": [
        {
          "output_type": "execute_result",
          "data": {
            "text/plain": [
              "200000"
            ]
          },
          "metadata": {},
          "execution_count": 10
        }
      ]
    },
    {
      "cell_type": "code",
      "source": [
        "# alliteration, max_alliteration, rhyme, max_rhyme\n",
        "column_names = ['num_alliteration_chains', 'num_rhyme_chains', 'max_all_chain', 'max_rhyme_chain']\n",
        "ps_df = pd.DataFrame(phonetic_style_features, columns=column_names)\n",
        "ps_df"
      ],
      "metadata": {
        "colab": {
          "base_uri": "https://localhost:8080/",
          "height": 423
        },
        "id": "3Cus7o-U_ZaU",
        "outputId": "14391514-10be-4154-acfd-4d48b848dc14"
      },
      "execution_count": 11,
      "outputs": [
        {
          "output_type": "execute_result",
          "data": {
            "text/plain": [
              "        num_alliteration_chains  num_rhyme_chains  max_all_chain  \\\n",
              "0                             5                 4              1   \n",
              "1                             5                 6              2   \n",
              "2                             7                 5              1   \n",
              "3                             6                 5              1   \n",
              "4                             6                 7              2   \n",
              "...                         ...               ...            ...   \n",
              "199995                        5                 4              1   \n",
              "199996                        8                 6              2   \n",
              "199997                        9                 9              2   \n",
              "199998                        7                 7              1   \n",
              "199999                        9                 8              2   \n",
              "\n",
              "        max_rhyme_chain  \n",
              "0                     2  \n",
              "1                     1  \n",
              "2                     2  \n",
              "3                     2  \n",
              "4                     2  \n",
              "...                 ...  \n",
              "199995                2  \n",
              "199996                3  \n",
              "199997                2  \n",
              "199998                1  \n",
              "199999                2  \n",
              "\n",
              "[200000 rows x 4 columns]"
            ],
            "text/html": [
              "\n",
              "  <div id=\"df-34d587fd-e29e-45b3-8b50-9c31e3cae5cc\" class=\"colab-df-container\">\n",
              "    <div>\n",
              "<style scoped>\n",
              "    .dataframe tbody tr th:only-of-type {\n",
              "        vertical-align: middle;\n",
              "    }\n",
              "\n",
              "    .dataframe tbody tr th {\n",
              "        vertical-align: top;\n",
              "    }\n",
              "\n",
              "    .dataframe thead th {\n",
              "        text-align: right;\n",
              "    }\n",
              "</style>\n",
              "<table border=\"1\" class=\"dataframe\">\n",
              "  <thead>\n",
              "    <tr style=\"text-align: right;\">\n",
              "      <th></th>\n",
              "      <th>num_alliteration_chains</th>\n",
              "      <th>num_rhyme_chains</th>\n",
              "      <th>max_all_chain</th>\n",
              "      <th>max_rhyme_chain</th>\n",
              "    </tr>\n",
              "  </thead>\n",
              "  <tbody>\n",
              "    <tr>\n",
              "      <th>0</th>\n",
              "      <td>5</td>\n",
              "      <td>4</td>\n",
              "      <td>1</td>\n",
              "      <td>2</td>\n",
              "    </tr>\n",
              "    <tr>\n",
              "      <th>1</th>\n",
              "      <td>5</td>\n",
              "      <td>6</td>\n",
              "      <td>2</td>\n",
              "      <td>1</td>\n",
              "    </tr>\n",
              "    <tr>\n",
              "      <th>2</th>\n",
              "      <td>7</td>\n",
              "      <td>5</td>\n",
              "      <td>1</td>\n",
              "      <td>2</td>\n",
              "    </tr>\n",
              "    <tr>\n",
              "      <th>3</th>\n",
              "      <td>6</td>\n",
              "      <td>5</td>\n",
              "      <td>1</td>\n",
              "      <td>2</td>\n",
              "    </tr>\n",
              "    <tr>\n",
              "      <th>4</th>\n",
              "      <td>6</td>\n",
              "      <td>7</td>\n",
              "      <td>2</td>\n",
              "      <td>2</td>\n",
              "    </tr>\n",
              "    <tr>\n",
              "      <th>...</th>\n",
              "      <td>...</td>\n",
              "      <td>...</td>\n",
              "      <td>...</td>\n",
              "      <td>...</td>\n",
              "    </tr>\n",
              "    <tr>\n",
              "      <th>199995</th>\n",
              "      <td>5</td>\n",
              "      <td>4</td>\n",
              "      <td>1</td>\n",
              "      <td>2</td>\n",
              "    </tr>\n",
              "    <tr>\n",
              "      <th>199996</th>\n",
              "      <td>8</td>\n",
              "      <td>6</td>\n",
              "      <td>2</td>\n",
              "      <td>3</td>\n",
              "    </tr>\n",
              "    <tr>\n",
              "      <th>199997</th>\n",
              "      <td>9</td>\n",
              "      <td>9</td>\n",
              "      <td>2</td>\n",
              "      <td>2</td>\n",
              "    </tr>\n",
              "    <tr>\n",
              "      <th>199998</th>\n",
              "      <td>7</td>\n",
              "      <td>7</td>\n",
              "      <td>1</td>\n",
              "      <td>1</td>\n",
              "    </tr>\n",
              "    <tr>\n",
              "      <th>199999</th>\n",
              "      <td>9</td>\n",
              "      <td>8</td>\n",
              "      <td>2</td>\n",
              "      <td>2</td>\n",
              "    </tr>\n",
              "  </tbody>\n",
              "</table>\n",
              "<p>200000 rows × 4 columns</p>\n",
              "</div>\n",
              "    <div class=\"colab-df-buttons\">\n",
              "\n",
              "  <div class=\"colab-df-container\">\n",
              "    <button class=\"colab-df-convert\" onclick=\"convertToInteractive('df-34d587fd-e29e-45b3-8b50-9c31e3cae5cc')\"\n",
              "            title=\"Convert this dataframe to an interactive table.\"\n",
              "            style=\"display:none;\">\n",
              "\n",
              "  <svg xmlns=\"http://www.w3.org/2000/svg\" height=\"24px\" viewBox=\"0 -960 960 960\">\n",
              "    <path d=\"M120-120v-720h720v720H120Zm60-500h600v-160H180v160Zm220 220h160v-160H400v160Zm0 220h160v-160H400v160ZM180-400h160v-160H180v160Zm440 0h160v-160H620v160ZM180-180h160v-160H180v160Zm440 0h160v-160H620v160Z\"/>\n",
              "  </svg>\n",
              "    </button>\n",
              "\n",
              "  <style>\n",
              "    .colab-df-container {\n",
              "      display:flex;\n",
              "      gap: 12px;\n",
              "    }\n",
              "\n",
              "    .colab-df-convert {\n",
              "      background-color: #E8F0FE;\n",
              "      border: none;\n",
              "      border-radius: 50%;\n",
              "      cursor: pointer;\n",
              "      display: none;\n",
              "      fill: #1967D2;\n",
              "      height: 32px;\n",
              "      padding: 0 0 0 0;\n",
              "      width: 32px;\n",
              "    }\n",
              "\n",
              "    .colab-df-convert:hover {\n",
              "      background-color: #E2EBFA;\n",
              "      box-shadow: 0px 1px 2px rgba(60, 64, 67, 0.3), 0px 1px 3px 1px rgba(60, 64, 67, 0.15);\n",
              "      fill: #174EA6;\n",
              "    }\n",
              "\n",
              "    .colab-df-buttons div {\n",
              "      margin-bottom: 4px;\n",
              "    }\n",
              "\n",
              "    [theme=dark] .colab-df-convert {\n",
              "      background-color: #3B4455;\n",
              "      fill: #D2E3FC;\n",
              "    }\n",
              "\n",
              "    [theme=dark] .colab-df-convert:hover {\n",
              "      background-color: #434B5C;\n",
              "      box-shadow: 0px 1px 3px 1px rgba(0, 0, 0, 0.15);\n",
              "      filter: drop-shadow(0px 1px 2px rgba(0, 0, 0, 0.3));\n",
              "      fill: #FFFFFF;\n",
              "    }\n",
              "  </style>\n",
              "\n",
              "    <script>\n",
              "      const buttonEl =\n",
              "        document.querySelector('#df-34d587fd-e29e-45b3-8b50-9c31e3cae5cc button.colab-df-convert');\n",
              "      buttonEl.style.display =\n",
              "        google.colab.kernel.accessAllowed ? 'block' : 'none';\n",
              "\n",
              "      async function convertToInteractive(key) {\n",
              "        const element = document.querySelector('#df-34d587fd-e29e-45b3-8b50-9c31e3cae5cc');\n",
              "        const dataTable =\n",
              "          await google.colab.kernel.invokeFunction('convertToInteractive',\n",
              "                                                    [key], {});\n",
              "        if (!dataTable) return;\n",
              "\n",
              "        const docLinkHtml = 'Like what you see? Visit the ' +\n",
              "          '<a target=\"_blank\" href=https://colab.research.google.com/notebooks/data_table.ipynb>data table notebook</a>'\n",
              "          + ' to learn more about interactive tables.';\n",
              "        element.innerHTML = '';\n",
              "        dataTable['output_type'] = 'display_data';\n",
              "        await google.colab.output.renderOutput(dataTable, element);\n",
              "        const docLink = document.createElement('div');\n",
              "        docLink.innerHTML = docLinkHtml;\n",
              "        element.appendChild(docLink);\n",
              "      }\n",
              "    </script>\n",
              "  </div>\n",
              "\n",
              "\n",
              "<div id=\"df-5663ddc8-4a49-4d76-a858-fdbe082c82e8\">\n",
              "  <button class=\"colab-df-quickchart\" onclick=\"quickchart('df-5663ddc8-4a49-4d76-a858-fdbe082c82e8')\"\n",
              "            title=\"Suggest charts\"\n",
              "            style=\"display:none;\">\n",
              "\n",
              "<svg xmlns=\"http://www.w3.org/2000/svg\" height=\"24px\"viewBox=\"0 0 24 24\"\n",
              "     width=\"24px\">\n",
              "    <g>\n",
              "        <path d=\"M19 3H5c-1.1 0-2 .9-2 2v14c0 1.1.9 2 2 2h14c1.1 0 2-.9 2-2V5c0-1.1-.9-2-2-2zM9 17H7v-7h2v7zm4 0h-2V7h2v10zm4 0h-2v-4h2v4z\"/>\n",
              "    </g>\n",
              "</svg>\n",
              "  </button>\n",
              "\n",
              "<style>\n",
              "  .colab-df-quickchart {\n",
              "      --bg-color: #E8F0FE;\n",
              "      --fill-color: #1967D2;\n",
              "      --hover-bg-color: #E2EBFA;\n",
              "      --hover-fill-color: #174EA6;\n",
              "      --disabled-fill-color: #AAA;\n",
              "      --disabled-bg-color: #DDD;\n",
              "  }\n",
              "\n",
              "  [theme=dark] .colab-df-quickchart {\n",
              "      --bg-color: #3B4455;\n",
              "      --fill-color: #D2E3FC;\n",
              "      --hover-bg-color: #434B5C;\n",
              "      --hover-fill-color: #FFFFFF;\n",
              "      --disabled-bg-color: #3B4455;\n",
              "      --disabled-fill-color: #666;\n",
              "  }\n",
              "\n",
              "  .colab-df-quickchart {\n",
              "    background-color: var(--bg-color);\n",
              "    border: none;\n",
              "    border-radius: 50%;\n",
              "    cursor: pointer;\n",
              "    display: none;\n",
              "    fill: var(--fill-color);\n",
              "    height: 32px;\n",
              "    padding: 0;\n",
              "    width: 32px;\n",
              "  }\n",
              "\n",
              "  .colab-df-quickchart:hover {\n",
              "    background-color: var(--hover-bg-color);\n",
              "    box-shadow: 0 1px 2px rgba(60, 64, 67, 0.3), 0 1px 3px 1px rgba(60, 64, 67, 0.15);\n",
              "    fill: var(--button-hover-fill-color);\n",
              "  }\n",
              "\n",
              "  .colab-df-quickchart-complete:disabled,\n",
              "  .colab-df-quickchart-complete:disabled:hover {\n",
              "    background-color: var(--disabled-bg-color);\n",
              "    fill: var(--disabled-fill-color);\n",
              "    box-shadow: none;\n",
              "  }\n",
              "\n",
              "  .colab-df-spinner {\n",
              "    border: 2px solid var(--fill-color);\n",
              "    border-color: transparent;\n",
              "    border-bottom-color: var(--fill-color);\n",
              "    animation:\n",
              "      spin 1s steps(1) infinite;\n",
              "  }\n",
              "\n",
              "  @keyframes spin {\n",
              "    0% {\n",
              "      border-color: transparent;\n",
              "      border-bottom-color: var(--fill-color);\n",
              "      border-left-color: var(--fill-color);\n",
              "    }\n",
              "    20% {\n",
              "      border-color: transparent;\n",
              "      border-left-color: var(--fill-color);\n",
              "      border-top-color: var(--fill-color);\n",
              "    }\n",
              "    30% {\n",
              "      border-color: transparent;\n",
              "      border-left-color: var(--fill-color);\n",
              "      border-top-color: var(--fill-color);\n",
              "      border-right-color: var(--fill-color);\n",
              "    }\n",
              "    40% {\n",
              "      border-color: transparent;\n",
              "      border-right-color: var(--fill-color);\n",
              "      border-top-color: var(--fill-color);\n",
              "    }\n",
              "    60% {\n",
              "      border-color: transparent;\n",
              "      border-right-color: var(--fill-color);\n",
              "    }\n",
              "    80% {\n",
              "      border-color: transparent;\n",
              "      border-right-color: var(--fill-color);\n",
              "      border-bottom-color: var(--fill-color);\n",
              "    }\n",
              "    90% {\n",
              "      border-color: transparent;\n",
              "      border-bottom-color: var(--fill-color);\n",
              "    }\n",
              "  }\n",
              "</style>\n",
              "\n",
              "  <script>\n",
              "    async function quickchart(key) {\n",
              "      const quickchartButtonEl =\n",
              "        document.querySelector('#' + key + ' button');\n",
              "      quickchartButtonEl.disabled = true;  // To prevent multiple clicks.\n",
              "      quickchartButtonEl.classList.add('colab-df-spinner');\n",
              "      try {\n",
              "        const charts = await google.colab.kernel.invokeFunction(\n",
              "            'suggestCharts', [key], {});\n",
              "      } catch (error) {\n",
              "        console.error('Error during call to suggestCharts:', error);\n",
              "      }\n",
              "      quickchartButtonEl.classList.remove('colab-df-spinner');\n",
              "      quickchartButtonEl.classList.add('colab-df-quickchart-complete');\n",
              "    }\n",
              "    (() => {\n",
              "      let quickchartButtonEl =\n",
              "        document.querySelector('#df-5663ddc8-4a49-4d76-a858-fdbe082c82e8 button');\n",
              "      quickchartButtonEl.style.display =\n",
              "        google.colab.kernel.accessAllowed ? 'block' : 'none';\n",
              "    })();\n",
              "  </script>\n",
              "</div>\n",
              "    </div>\n",
              "  </div>\n"
            ]
          },
          "metadata": {},
          "execution_count": 11
        }
      ]
    },
    {
      "cell_type": "code",
      "source": [
        "# Get unique values using set()\n",
        "unique_values = list(set(ps_df['num_alliteration_chains']))\n",
        "\n",
        "# Print the unique values\n",
        "print(\"Unique values:\", unique_values)"
      ],
      "metadata": {
        "colab": {
          "base_uri": "https://localhost:8080/"
        },
        "id": "uzKn4zfSs42U",
        "outputId": "a9ff3d57-afcf-4234-94fc-9cd696152a5c"
      },
      "execution_count": 12,
      "outputs": [
        {
          "output_type": "stream",
          "name": "stdout",
          "text": [
            "Unique values: [0, 1, 2, 3, 4, 5, 6, 7, 8, 9, 10, 11, 12, 13, 14, 15, 16]\n"
          ]
        }
      ]
    },
    {
      "cell_type": "code",
      "source": [
        "# Get unique values using set()\n",
        "unique_values = list(set(ps_df['num_rhyme_chains']))\n",
        "\n",
        "# Print the unique values\n",
        "print(\"Unique values:\", unique_values)"
      ],
      "metadata": {
        "colab": {
          "base_uri": "https://localhost:8080/"
        },
        "id": "up4UK6tKvsTP",
        "outputId": "1eb44284-c672-4449-9ef7-a3fe14cd30ef"
      },
      "execution_count": 13,
      "outputs": [
        {
          "output_type": "stream",
          "name": "stdout",
          "text": [
            "Unique values: [0, 1, 2, 3, 4, 5, 6, 7, 8, 9, 10, 11, 12, 13, 14, 15]\n"
          ]
        }
      ]
    },
    {
      "cell_type": "code",
      "source": [
        "# Get unique values using set()\n",
        "unique_values = list(set(ps_df['max_all_chain']))\n",
        "\n",
        "# Print the unique values\n",
        "print(\"Unique values:\", unique_values)"
      ],
      "metadata": {
        "colab": {
          "base_uri": "https://localhost:8080/"
        },
        "id": "l8OuVJ6JvsKR",
        "outputId": "55720e0a-cee6-49b9-b8af-49fd21d5717a"
      },
      "execution_count": 14,
      "outputs": [
        {
          "output_type": "stream",
          "name": "stdout",
          "text": [
            "Unique values: [0, 1, 2, 3, 4, 5, 6, 7, 8, 9, 11]\n"
          ]
        }
      ]
    },
    {
      "cell_type": "code",
      "source": [
        "# Get unique values using set()\n",
        "unique_values = list(set(ps_df['max_rhyme_chain']))\n",
        "\n",
        "# Print the unique values\n",
        "print(\"Unique values:\", unique_values)"
      ],
      "metadata": {
        "colab": {
          "base_uri": "https://localhost:8080/"
        },
        "id": "VcqxF0vMvsH7",
        "outputId": "9d518dae-9332-4988-f440-df917e10b533"
      },
      "execution_count": 15,
      "outputs": [
        {
          "output_type": "stream",
          "name": "stdout",
          "text": [
            "Unique values: [0, 1, 2, 3, 4, 5, 6, 7, 8, 9, 10, 11]\n"
          ]
        }
      ]
    },
    {
      "cell_type": "code",
      "source": [
        "ps_df.to_csv('/content/drive/MyDrive/CSC791:NLP/project/phonetic_features.csv')"
      ],
      "metadata": {
        "id": "NRZy11CCMZF3"
      },
      "execution_count": 16,
      "outputs": []
    },
    {
      "cell_type": "code",
      "source": [
        "from sklearn.model_selection import train_test_split\n",
        "from sklearn.tree import DecisionTreeClassifier\n",
        "from sklearn.metrics import classification_report\n",
        "\n",
        "\n",
        "train_data_X, test_data_X, train_data_Y, test_data_Y = train_test_split(ps_df, labels, test_size=0.7)\n",
        "model = DecisionTreeClassifier()\n",
        "model.fit(train_data_X, train_data_Y)\n",
        "model.score(train_data_X, train_data_Y)"
      ],
      "metadata": {
        "colab": {
          "base_uri": "https://localhost:8080/"
        },
        "id": "VJIhQQAfwS4B",
        "outputId": "fcb155c7-0780-4bd0-89cd-eca5ef9c0d0e"
      },
      "execution_count": 17,
      "outputs": [
        {
          "output_type": "execute_result",
          "data": {
            "text/plain": [
              "0.6426833333333334"
            ]
          },
          "metadata": {},
          "execution_count": 17
        }
      ]
    },
    {
      "cell_type": "code",
      "source": [
        "preds = model.predict(test_data_X)\n",
        "print(classification_report(preds, test_data_Y))"
      ],
      "metadata": {
        "colab": {
          "base_uri": "https://localhost:8080/"
        },
        "id": "b0NWRvBwwc40",
        "outputId": "7bca31b1-9d18-48c2-bcb4-fc7f127a4ce6"
      },
      "execution_count": 18,
      "outputs": [
        {
          "output_type": "stream",
          "name": "stdout",
          "text": [
            "              precision    recall  f1-score   support\n",
            "\n",
            "       False       0.77      0.60      0.68     89176\n",
            "        True       0.50      0.68      0.57     50824\n",
            "\n",
            "    accuracy                           0.63    140000\n",
            "   macro avg       0.63      0.64      0.63    140000\n",
            "weighted avg       0.67      0.63      0.64    140000\n",
            "\n"
          ]
        }
      ]
    },
    {
      "cell_type": "code",
      "source": [
        "ambiguity_features_scs_df = pd.read_csv('/content/drive/MyDrive/CSC791:NLP/project/ambiguity_features_scs.csv')\n",
        "ambiguity_features_pthsim_df = pd.read_csv('/content/drive/MyDrive/CSC791:NLP/project/ambiguity_features_pths.csv')\n",
        "incngruity_features_df = pd.read_csv('/content/drive/MyDrive/CSC791:NLP/project/incongruity_features.csv')\n",
        "phonetic_features_df = pd.read_csv('/content/drive/MyDrive/CSC791:NLP/project/phonetic_features.csv')"
      ],
      "metadata": {
        "id": "bNa1WeRIi9X3"
      },
      "execution_count": 19,
      "outputs": []
    },
    {
      "cell_type": "code",
      "source": [
        "semantic_features = pd.DataFrame({\n",
        "    'disconnection': incngruity_features_df['Disconnection'],\n",
        "    'repetition': incngruity_features_df['Repetition'],\n",
        "    'sense_combination_score': ambiguity_features_scs_df['SenseCombScore'],\n",
        "    'farmost_path': ambiguity_features_pthsim_df['farmost_path'],\n",
        "    'closest_path': ambiguity_features_pthsim_df['closest_path'],\n",
        "    'alliteration': phonetic_features_df['num_alliteration_chains'],\n",
        "    'max_alliteration': phonetic_features_df['max_all_chain'],\n",
        "    'rhyme': phonetic_features_df['num_rhyme_chains'],\n",
        "    'max_rhyme': phonetic_features_df['max_rhyme_chain']\n",
        "})\n",
        "semantic_features"
      ],
      "metadata": {
        "colab": {
          "base_uri": "https://localhost:8080/",
          "height": 423
        },
        "id": "vEWhwJCTi9aK",
        "outputId": "adaf9be1-2966-4a46-a651-407ba4d975aa"
      },
      "execution_count": 21,
      "outputs": [
        {
          "output_type": "execute_result",
          "data": {
            "text/plain": [
              "        disconnection  repetition  sense_combination_score  farmost_path  \\\n",
              "0            0.941129   -0.256623                  59040.0      0.500000   \n",
              "1            0.826847   -0.003797                  31680.0      0.500000   \n",
              "2            0.818388   -0.071782                 123760.0      0.333333   \n",
              "3            0.965455    0.019324                    480.0      0.333333   \n",
              "4            0.913695   -0.570869                    880.0      0.500000   \n",
              "...               ...         ...                      ...           ...   \n",
              "199995       0.957222   -0.028747                    378.0      0.500000   \n",
              "199996       0.868705   -0.034454                   8820.0      0.500000   \n",
              "199997       0.947203   -0.125161                   2730.0      0.500000   \n",
              "199998       0.826061   -0.173908                     40.0      0.333333   \n",
              "199999       0.917774   -0.613046                  57750.0      0.500000   \n",
              "\n",
              "        closest_path  alliteration  max_alliteration  rhyme  max_rhyme  \n",
              "0           0.050000             5                 1      4          2  \n",
              "1           0.045455             5                 2      6          1  \n",
              "2           0.043478             7                 1      5          2  \n",
              "3           0.062500             6                 1      5          2  \n",
              "4           0.047619             6                 2      7          2  \n",
              "...              ...           ...               ...    ...        ...  \n",
              "199995      0.050000             5                 1      4          2  \n",
              "199996      0.050000             8                 2      6          3  \n",
              "199997      0.041667             9                 2      9          2  \n",
              "199998      0.058824             7                 1      7          1  \n",
              "199999      0.037037             9                 2      8          2  \n",
              "\n",
              "[200000 rows x 9 columns]"
            ],
            "text/html": [
              "\n",
              "  <div id=\"df-0276cf05-8d74-4bd7-8508-a1a4dd397742\" class=\"colab-df-container\">\n",
              "    <div>\n",
              "<style scoped>\n",
              "    .dataframe tbody tr th:only-of-type {\n",
              "        vertical-align: middle;\n",
              "    }\n",
              "\n",
              "    .dataframe tbody tr th {\n",
              "        vertical-align: top;\n",
              "    }\n",
              "\n",
              "    .dataframe thead th {\n",
              "        text-align: right;\n",
              "    }\n",
              "</style>\n",
              "<table border=\"1\" class=\"dataframe\">\n",
              "  <thead>\n",
              "    <tr style=\"text-align: right;\">\n",
              "      <th></th>\n",
              "      <th>disconnection</th>\n",
              "      <th>repetition</th>\n",
              "      <th>sense_combination_score</th>\n",
              "      <th>farmost_path</th>\n",
              "      <th>closest_path</th>\n",
              "      <th>alliteration</th>\n",
              "      <th>max_alliteration</th>\n",
              "      <th>rhyme</th>\n",
              "      <th>max_rhyme</th>\n",
              "    </tr>\n",
              "  </thead>\n",
              "  <tbody>\n",
              "    <tr>\n",
              "      <th>0</th>\n",
              "      <td>0.941129</td>\n",
              "      <td>-0.256623</td>\n",
              "      <td>59040.0</td>\n",
              "      <td>0.500000</td>\n",
              "      <td>0.050000</td>\n",
              "      <td>5</td>\n",
              "      <td>1</td>\n",
              "      <td>4</td>\n",
              "      <td>2</td>\n",
              "    </tr>\n",
              "    <tr>\n",
              "      <th>1</th>\n",
              "      <td>0.826847</td>\n",
              "      <td>-0.003797</td>\n",
              "      <td>31680.0</td>\n",
              "      <td>0.500000</td>\n",
              "      <td>0.045455</td>\n",
              "      <td>5</td>\n",
              "      <td>2</td>\n",
              "      <td>6</td>\n",
              "      <td>1</td>\n",
              "    </tr>\n",
              "    <tr>\n",
              "      <th>2</th>\n",
              "      <td>0.818388</td>\n",
              "      <td>-0.071782</td>\n",
              "      <td>123760.0</td>\n",
              "      <td>0.333333</td>\n",
              "      <td>0.043478</td>\n",
              "      <td>7</td>\n",
              "      <td>1</td>\n",
              "      <td>5</td>\n",
              "      <td>2</td>\n",
              "    </tr>\n",
              "    <tr>\n",
              "      <th>3</th>\n",
              "      <td>0.965455</td>\n",
              "      <td>0.019324</td>\n",
              "      <td>480.0</td>\n",
              "      <td>0.333333</td>\n",
              "      <td>0.062500</td>\n",
              "      <td>6</td>\n",
              "      <td>1</td>\n",
              "      <td>5</td>\n",
              "      <td>2</td>\n",
              "    </tr>\n",
              "    <tr>\n",
              "      <th>4</th>\n",
              "      <td>0.913695</td>\n",
              "      <td>-0.570869</td>\n",
              "      <td>880.0</td>\n",
              "      <td>0.500000</td>\n",
              "      <td>0.047619</td>\n",
              "      <td>6</td>\n",
              "      <td>2</td>\n",
              "      <td>7</td>\n",
              "      <td>2</td>\n",
              "    </tr>\n",
              "    <tr>\n",
              "      <th>...</th>\n",
              "      <td>...</td>\n",
              "      <td>...</td>\n",
              "      <td>...</td>\n",
              "      <td>...</td>\n",
              "      <td>...</td>\n",
              "      <td>...</td>\n",
              "      <td>...</td>\n",
              "      <td>...</td>\n",
              "      <td>...</td>\n",
              "    </tr>\n",
              "    <tr>\n",
              "      <th>199995</th>\n",
              "      <td>0.957222</td>\n",
              "      <td>-0.028747</td>\n",
              "      <td>378.0</td>\n",
              "      <td>0.500000</td>\n",
              "      <td>0.050000</td>\n",
              "      <td>5</td>\n",
              "      <td>1</td>\n",
              "      <td>4</td>\n",
              "      <td>2</td>\n",
              "    </tr>\n",
              "    <tr>\n",
              "      <th>199996</th>\n",
              "      <td>0.868705</td>\n",
              "      <td>-0.034454</td>\n",
              "      <td>8820.0</td>\n",
              "      <td>0.500000</td>\n",
              "      <td>0.050000</td>\n",
              "      <td>8</td>\n",
              "      <td>2</td>\n",
              "      <td>6</td>\n",
              "      <td>3</td>\n",
              "    </tr>\n",
              "    <tr>\n",
              "      <th>199997</th>\n",
              "      <td>0.947203</td>\n",
              "      <td>-0.125161</td>\n",
              "      <td>2730.0</td>\n",
              "      <td>0.500000</td>\n",
              "      <td>0.041667</td>\n",
              "      <td>9</td>\n",
              "      <td>2</td>\n",
              "      <td>9</td>\n",
              "      <td>2</td>\n",
              "    </tr>\n",
              "    <tr>\n",
              "      <th>199998</th>\n",
              "      <td>0.826061</td>\n",
              "      <td>-0.173908</td>\n",
              "      <td>40.0</td>\n",
              "      <td>0.333333</td>\n",
              "      <td>0.058824</td>\n",
              "      <td>7</td>\n",
              "      <td>1</td>\n",
              "      <td>7</td>\n",
              "      <td>1</td>\n",
              "    </tr>\n",
              "    <tr>\n",
              "      <th>199999</th>\n",
              "      <td>0.917774</td>\n",
              "      <td>-0.613046</td>\n",
              "      <td>57750.0</td>\n",
              "      <td>0.500000</td>\n",
              "      <td>0.037037</td>\n",
              "      <td>9</td>\n",
              "      <td>2</td>\n",
              "      <td>8</td>\n",
              "      <td>2</td>\n",
              "    </tr>\n",
              "  </tbody>\n",
              "</table>\n",
              "<p>200000 rows × 9 columns</p>\n",
              "</div>\n",
              "    <div class=\"colab-df-buttons\">\n",
              "\n",
              "  <div class=\"colab-df-container\">\n",
              "    <button class=\"colab-df-convert\" onclick=\"convertToInteractive('df-0276cf05-8d74-4bd7-8508-a1a4dd397742')\"\n",
              "            title=\"Convert this dataframe to an interactive table.\"\n",
              "            style=\"display:none;\">\n",
              "\n",
              "  <svg xmlns=\"http://www.w3.org/2000/svg\" height=\"24px\" viewBox=\"0 -960 960 960\">\n",
              "    <path d=\"M120-120v-720h720v720H120Zm60-500h600v-160H180v160Zm220 220h160v-160H400v160Zm0 220h160v-160H400v160ZM180-400h160v-160H180v160Zm440 0h160v-160H620v160ZM180-180h160v-160H180v160Zm440 0h160v-160H620v160Z\"/>\n",
              "  </svg>\n",
              "    </button>\n",
              "\n",
              "  <style>\n",
              "    .colab-df-container {\n",
              "      display:flex;\n",
              "      gap: 12px;\n",
              "    }\n",
              "\n",
              "    .colab-df-convert {\n",
              "      background-color: #E8F0FE;\n",
              "      border: none;\n",
              "      border-radius: 50%;\n",
              "      cursor: pointer;\n",
              "      display: none;\n",
              "      fill: #1967D2;\n",
              "      height: 32px;\n",
              "      padding: 0 0 0 0;\n",
              "      width: 32px;\n",
              "    }\n",
              "\n",
              "    .colab-df-convert:hover {\n",
              "      background-color: #E2EBFA;\n",
              "      box-shadow: 0px 1px 2px rgba(60, 64, 67, 0.3), 0px 1px 3px 1px rgba(60, 64, 67, 0.15);\n",
              "      fill: #174EA6;\n",
              "    }\n",
              "\n",
              "    .colab-df-buttons div {\n",
              "      margin-bottom: 4px;\n",
              "    }\n",
              "\n",
              "    [theme=dark] .colab-df-convert {\n",
              "      background-color: #3B4455;\n",
              "      fill: #D2E3FC;\n",
              "    }\n",
              "\n",
              "    [theme=dark] .colab-df-convert:hover {\n",
              "      background-color: #434B5C;\n",
              "      box-shadow: 0px 1px 3px 1px rgba(0, 0, 0, 0.15);\n",
              "      filter: drop-shadow(0px 1px 2px rgba(0, 0, 0, 0.3));\n",
              "      fill: #FFFFFF;\n",
              "    }\n",
              "  </style>\n",
              "\n",
              "    <script>\n",
              "      const buttonEl =\n",
              "        document.querySelector('#df-0276cf05-8d74-4bd7-8508-a1a4dd397742 button.colab-df-convert');\n",
              "      buttonEl.style.display =\n",
              "        google.colab.kernel.accessAllowed ? 'block' : 'none';\n",
              "\n",
              "      async function convertToInteractive(key) {\n",
              "        const element = document.querySelector('#df-0276cf05-8d74-4bd7-8508-a1a4dd397742');\n",
              "        const dataTable =\n",
              "          await google.colab.kernel.invokeFunction('convertToInteractive',\n",
              "                                                    [key], {});\n",
              "        if (!dataTable) return;\n",
              "\n",
              "        const docLinkHtml = 'Like what you see? Visit the ' +\n",
              "          '<a target=\"_blank\" href=https://colab.research.google.com/notebooks/data_table.ipynb>data table notebook</a>'\n",
              "          + ' to learn more about interactive tables.';\n",
              "        element.innerHTML = '';\n",
              "        dataTable['output_type'] = 'display_data';\n",
              "        await google.colab.output.renderOutput(dataTable, element);\n",
              "        const docLink = document.createElement('div');\n",
              "        docLink.innerHTML = docLinkHtml;\n",
              "        element.appendChild(docLink);\n",
              "      }\n",
              "    </script>\n",
              "  </div>\n",
              "\n",
              "\n",
              "<div id=\"df-50a58653-cb25-448e-80c1-794b9179c588\">\n",
              "  <button class=\"colab-df-quickchart\" onclick=\"quickchart('df-50a58653-cb25-448e-80c1-794b9179c588')\"\n",
              "            title=\"Suggest charts\"\n",
              "            style=\"display:none;\">\n",
              "\n",
              "<svg xmlns=\"http://www.w3.org/2000/svg\" height=\"24px\"viewBox=\"0 0 24 24\"\n",
              "     width=\"24px\">\n",
              "    <g>\n",
              "        <path d=\"M19 3H5c-1.1 0-2 .9-2 2v14c0 1.1.9 2 2 2h14c1.1 0 2-.9 2-2V5c0-1.1-.9-2-2-2zM9 17H7v-7h2v7zm4 0h-2V7h2v10zm4 0h-2v-4h2v4z\"/>\n",
              "    </g>\n",
              "</svg>\n",
              "  </button>\n",
              "\n",
              "<style>\n",
              "  .colab-df-quickchart {\n",
              "      --bg-color: #E8F0FE;\n",
              "      --fill-color: #1967D2;\n",
              "      --hover-bg-color: #E2EBFA;\n",
              "      --hover-fill-color: #174EA6;\n",
              "      --disabled-fill-color: #AAA;\n",
              "      --disabled-bg-color: #DDD;\n",
              "  }\n",
              "\n",
              "  [theme=dark] .colab-df-quickchart {\n",
              "      --bg-color: #3B4455;\n",
              "      --fill-color: #D2E3FC;\n",
              "      --hover-bg-color: #434B5C;\n",
              "      --hover-fill-color: #FFFFFF;\n",
              "      --disabled-bg-color: #3B4455;\n",
              "      --disabled-fill-color: #666;\n",
              "  }\n",
              "\n",
              "  .colab-df-quickchart {\n",
              "    background-color: var(--bg-color);\n",
              "    border: none;\n",
              "    border-radius: 50%;\n",
              "    cursor: pointer;\n",
              "    display: none;\n",
              "    fill: var(--fill-color);\n",
              "    height: 32px;\n",
              "    padding: 0;\n",
              "    width: 32px;\n",
              "  }\n",
              "\n",
              "  .colab-df-quickchart:hover {\n",
              "    background-color: var(--hover-bg-color);\n",
              "    box-shadow: 0 1px 2px rgba(60, 64, 67, 0.3), 0 1px 3px 1px rgba(60, 64, 67, 0.15);\n",
              "    fill: var(--button-hover-fill-color);\n",
              "  }\n",
              "\n",
              "  .colab-df-quickchart-complete:disabled,\n",
              "  .colab-df-quickchart-complete:disabled:hover {\n",
              "    background-color: var(--disabled-bg-color);\n",
              "    fill: var(--disabled-fill-color);\n",
              "    box-shadow: none;\n",
              "  }\n",
              "\n",
              "  .colab-df-spinner {\n",
              "    border: 2px solid var(--fill-color);\n",
              "    border-color: transparent;\n",
              "    border-bottom-color: var(--fill-color);\n",
              "    animation:\n",
              "      spin 1s steps(1) infinite;\n",
              "  }\n",
              "\n",
              "  @keyframes spin {\n",
              "    0% {\n",
              "      border-color: transparent;\n",
              "      border-bottom-color: var(--fill-color);\n",
              "      border-left-color: var(--fill-color);\n",
              "    }\n",
              "    20% {\n",
              "      border-color: transparent;\n",
              "      border-left-color: var(--fill-color);\n",
              "      border-top-color: var(--fill-color);\n",
              "    }\n",
              "    30% {\n",
              "      border-color: transparent;\n",
              "      border-left-color: var(--fill-color);\n",
              "      border-top-color: var(--fill-color);\n",
              "      border-right-color: var(--fill-color);\n",
              "    }\n",
              "    40% {\n",
              "      border-color: transparent;\n",
              "      border-right-color: var(--fill-color);\n",
              "      border-top-color: var(--fill-color);\n",
              "    }\n",
              "    60% {\n",
              "      border-color: transparent;\n",
              "      border-right-color: var(--fill-color);\n",
              "    }\n",
              "    80% {\n",
              "      border-color: transparent;\n",
              "      border-right-color: var(--fill-color);\n",
              "      border-bottom-color: var(--fill-color);\n",
              "    }\n",
              "    90% {\n",
              "      border-color: transparent;\n",
              "      border-bottom-color: var(--fill-color);\n",
              "    }\n",
              "  }\n",
              "</style>\n",
              "\n",
              "  <script>\n",
              "    async function quickchart(key) {\n",
              "      const quickchartButtonEl =\n",
              "        document.querySelector('#' + key + ' button');\n",
              "      quickchartButtonEl.disabled = true;  // To prevent multiple clicks.\n",
              "      quickchartButtonEl.classList.add('colab-df-spinner');\n",
              "      try {\n",
              "        const charts = await google.colab.kernel.invokeFunction(\n",
              "            'suggestCharts', [key], {});\n",
              "      } catch (error) {\n",
              "        console.error('Error during call to suggestCharts:', error);\n",
              "      }\n",
              "      quickchartButtonEl.classList.remove('colab-df-spinner');\n",
              "      quickchartButtonEl.classList.add('colab-df-quickchart-complete');\n",
              "    }\n",
              "    (() => {\n",
              "      let quickchartButtonEl =\n",
              "        document.querySelector('#df-50a58653-cb25-448e-80c1-794b9179c588 button');\n",
              "      quickchartButtonEl.style.display =\n",
              "        google.colab.kernel.accessAllowed ? 'block' : 'none';\n",
              "    })();\n",
              "  </script>\n",
              "</div>\n",
              "    </div>\n",
              "  </div>\n"
            ]
          },
          "metadata": {},
          "execution_count": 21
        }
      ]
    },
    {
      "cell_type": "code",
      "source": [
        "semantic_features.to_csv('/content/drive/MyDrive/CSC791:NLP/project/semantic_features_scs.csv')"
      ],
      "metadata": {
        "id": "9s1oGWLsi9cb"
      },
      "execution_count": 22,
      "outputs": []
    },
    {
      "cell_type": "code",
      "source": [
        "# Get unique values using set()\n",
        "unique_values = set(semantic_features['max_rhyme'].to_list())\n",
        "\n",
        "# Print the unique values\n",
        "print(\"Unique values:\", unique_values)"
      ],
      "metadata": {
        "id": "ESHC_thijLM_"
      },
      "execution_count": null,
      "outputs": []
    },
    {
      "cell_type": "code",
      "source": [
        "# Get unique values using set()\n",
        "unique_values = set(semantic_features['max_alliteration'].to_list())\n",
        "\n",
        "# Print the unique values\n",
        "print(\"Unique values:\", unique_values)"
      ],
      "metadata": {
        "colab": {
          "base_uri": "https://localhost:8080/"
        },
        "id": "ckeSFP1gieYK",
        "outputId": "efb55789-3d27-4259-c5d7-fcf0cbe42a38"
      },
      "execution_count": null,
      "outputs": [
        {
          "output_type": "stream",
          "name": "stdout",
          "text": [
            "Unique values: {0, 1, 2, 3, 4}\n"
          ]
        }
      ]
    },
    {
      "cell_type": "code",
      "source": [
        "# Get unique values using set()\n",
        "unique_values = set(semantic_features['rhyme'].to_list())\n",
        "\n",
        "# Print the unique values\n",
        "print(\"Unique values:\", unique_values)"
      ],
      "metadata": {
        "colab": {
          "base_uri": "https://localhost:8080/"
        },
        "id": "sNLiMsTJiljS",
        "outputId": "324ef615-3335-4279-c8c2-f8d4ad8903d9"
      },
      "execution_count": null,
      "outputs": [
        {
          "output_type": "stream",
          "name": "stdout",
          "text": [
            "Unique values: {0, 1, 2, 3, 4, 5}\n"
          ]
        }
      ]
    },
    {
      "cell_type": "code",
      "source": [
        "# Get unique values using set()\n",
        "unique_values = set(semantic_features['alliteration'].to_list())\n",
        "\n",
        "# Print the unique values\n",
        "print(\"Unique values:\", unique_values)"
      ],
      "metadata": {
        "colab": {
          "base_uri": "https://localhost:8080/"
        },
        "id": "ty-q42OZim1S",
        "outputId": "770e3dfd-6f13-40ed-dfdb-49fc6f2a1554"
      },
      "execution_count": null,
      "outputs": [
        {
          "output_type": "stream",
          "name": "stdout",
          "text": [
            "Unique values: {0, 1, 2, 3, 4}\n"
          ]
        }
      ]
    },
    {
      "cell_type": "code",
      "source": [
        "# Get unique values using set()\n",
        "unique_values = set(semantic_features['closest_path'].to_list())\n",
        "\n",
        "# Print the unique values\n",
        "print(\"Unique values:\", unique_values)"
      ],
      "metadata": {
        "colab": {
          "base_uri": "https://localhost:8080/"
        },
        "id": "uDqeQu54iomL",
        "outputId": "f2d4d612-de7e-4023-915f-e82692791b6a"
      },
      "execution_count": null,
      "outputs": [
        {
          "output_type": "stream",
          "name": "stdout",
          "text": [
            "Unique values: {0.0625, 0.0666666666666666, 0.0714285714285714, 0.25, 0.125, 0.1111111111111111, 0.1428571428571428, 0.3333333333333333, 0.2, 0.0357142857142857, nan, 0.5, nan, nan, nan, nan, nan, 0.05, 0.0434782608695652, 0.0909090909090909, nan, nan, nan, nan, 0.037037037037037, 0.0384615384615384, 0.04, nan, nan, nan, nan, nan, 0.0769230769230769, 0.0555555555555555, 0.0416666666666666, 0.1, 0.1666666666666666, nan, nan, nan, 0.0588235294117647, 0.0526315789473684, nan, nan, nan, nan, nan, nan, 0.0476190476190476, 0.0454545454545454, 0.0344827586206896, 0.0833333333333333, nan, nan}\n"
          ]
        }
      ]
    },
    {
      "cell_type": "code",
      "source": [],
      "metadata": {
        "id": "eNOKInx6jUsR"
      },
      "execution_count": null,
      "outputs": []
    }
  ]
}