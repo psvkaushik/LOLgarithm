{
 "cells": [
  {
   "cell_type": "code",
   "execution_count": 34,
   "metadata": {},
   "outputs": [],
   "source": [
    "import torch\n",
    "from transformers import TFBertModel, BertTokenizer\n",
    "\n",
    "import os\n",
    "import time\n",
    "import pandas as pd\n",
    "from datasets import load_metric\n",
    "import matplotlib.pyplot as plt\n",
    "from tqdm import tqdm\n",
    "from sklearn.model_selection import train_test_split\n",
    "import numpy as np\n",
    "import csv\n",
    "import tensorflow as tf\n",
    "import keras\n",
    "import pickle\n",
    "from sklearn.metrics import precision_score, recall_score, f1_score, accuracy_score\n",
    "import sklearn\n",
    "from tensorflow.keras.optimizers import Adam\n",
    "from tensorflow.keras.losses import BinaryCrossentropy\n",
    "from tensorflow.keras.layers import Input, Dense, Concatenate, Add, Dropout\n",
    "from tensorflow.keras.models import Model"
   ]
  },
  {
   "cell_type": "code",
   "execution_count": 151,
   "metadata": {},
   "outputs": [
    {
     "name": "stdout",
     "output_type": "stream",
     "text": [
      "WARNING:tensorflow:SavedModel saved prior to TF 2.5 detected when loading Keras model. Please ensure that you are saving the model with model.save() or tf.keras.models.save_model(), *NOT* tf.saved_model.save(). To confirm, there should be a file named \"keras_metadata.pb\" in the SavedModel directory.\n"
     ]
    },
    {
     "name": "stderr",
     "output_type": "stream",
     "text": [
      "WARNING:tensorflow:SavedModel saved prior to TF 2.5 detected when loading Keras model. Please ensure that you are saving the model with model.save() or tf.keras.models.save_model(), *NOT* tf.saved_model.save(). To confirm, there should be a file named \"keras_metadata.pb\" in the SavedModel directory.\n"
     ]
    },
    {
     "name": "stdout",
     "output_type": "stream",
     "text": [
      "Model: \"functional_3\"\n",
      "__________________________________________________________________________________________________\n",
      " Layer (type)                Output Shape                 Param #   Connected to                  \n",
      "==================================================================================================\n",
      " input_19 (InputLayer)       [(None, 20)]                 0         []                            \n",
      "                                                                                                  \n",
      " input_20 (InputLayer)       [(None, 20)]                 0         []                            \n",
      "                                                                                                  \n",
      " input_21 (InputLayer)       [(None, 20)]                 0         []                            \n",
      "                                                                                                  \n",
      " input_22 (InputLayer)       [(None, 20)]                 0         []                            \n",
      "                                                                                                  \n",
      " input_23 (InputLayer)       [(None, 20)]                 0         []                            \n",
      "                                                                                                  \n",
      " input_24 (InputLayer)       [(None, 20)]                 0         []                            \n",
      "                                                                                                  \n",
      " input_25 (InputLayer)       [(None, 20)]                 0         []                            \n",
      "                                                                                                  \n",
      " input_26 (InputLayer)       [(None, 20)]                 0         []                            \n",
      "                                                                                                  \n",
      " input_27 (InputLayer)       [(None, 20)]                 0         []                            \n",
      "                                                                                                  \n",
      " input_28 (InputLayer)       [(None, 20)]                 0         []                            \n",
      "                                                                                                  \n",
      " input_29 (InputLayer)       [(None, 20)]                 0         []                            \n",
      "                                                                                                  \n",
      " input_30 (InputLayer)       [(None, 20)]                 0         []                            \n",
      "                                                                                                  \n",
      " input_31 (InputLayer)       [(None, 20)]                 0         []                            \n",
      "                                                                                                  \n",
      " input_32 (InputLayer)       [(None, 20)]                 0         []                            \n",
      "                                                                                                  \n",
      " input_33 (InputLayer)       [(None, 20)]                 0         []                            \n",
      "                                                                                                  \n",
      " input_34 (InputLayer)       [(None, 100)]                0         []                            \n",
      "                                                                                                  \n",
      " input_35 (InputLayer)       [(None, 100)]                0         []                            \n",
      "                                                                                                  \n",
      " input_36 (InputLayer)       [(None, 100)]                0         []                            \n",
      "                                                                                                  \n",
      " bert (TFBertMainLayer)      multiple                     1094822   ['input_19[0][0]',            \n",
      "                                                          40         'input_20[0][0]',            \n",
      "                                                                     'input_21[0][0]',            \n",
      "                                                                     'input_22[0][0]',            \n",
      "                                                                     'input_23[0][0]',            \n",
      "                                                                     'input_24[0][0]',            \n",
      "                                                                     'input_25[0][0]',            \n",
      "                                                                     'input_26[0][0]',            \n",
      "                                                                     'input_27[0][0]',            \n",
      "                                                                     'input_28[0][0]',            \n",
      "                                                                     'input_29[0][0]',            \n",
      "                                                                     'input_30[0][0]',            \n",
      "                                                                     'input_31[0][0]',            \n",
      "                                                                     'input_32[0][0]',            \n",
      "                                                                     'input_33[0][0]',            \n",
      "                                                                     'input_34[0][0]',            \n",
      "                                                                     'input_35[0][0]',            \n",
      "                                                                     'input_36[0][0]']            \n",
      "                                                                                                  \n",
      " global_average_pooling1d_6  (None, 768)                  0         ['bert[0][0]']                \n",
      "  (GlobalAveragePooling1D)                                                                        \n",
      "                                                                                                  \n",
      " global_average_pooling1d_7  (None, 768)                  0         ['bert[1][0]']                \n",
      "  (GlobalAveragePooling1D)                                                                        \n",
      "                                                                                                  \n",
      " global_average_pooling1d_8  (None, 768)                  0         ['bert[2][0]']                \n",
      "  (GlobalAveragePooling1D)                                                                        \n",
      "                                                                                                  \n",
      " global_average_pooling1d_9  (None, 768)                  0         ['bert[3][0]']                \n",
      "  (GlobalAveragePooling1D)                                                                        \n",
      "                                                                                                  \n",
      " global_average_pooling1d_1  (None, 768)                  0         ['bert[4][0]']                \n",
      " 0 (GlobalAveragePooling1D)                                                                       \n",
      "                                                                                                  \n",
      " global_average_pooling1d_1  (None, 768)                  0         ['bert[5][0]']                \n",
      " 1 (GlobalAveragePooling1D)                                                                       \n",
      "                                                                                                  \n",
      " dense_15 (Dense)            (None, 32)                   24608     ['global_average_pooling1d_6[0\n",
      "                                                                    ][0]']                        \n",
      "                                                                                                  \n",
      " dense_17 (Dense)            (None, 32)                   24608     ['global_average_pooling1d_7[0\n",
      "                                                                    ][0]']                        \n",
      "                                                                                                  \n",
      " dense_19 (Dense)            (None, 32)                   24608     ['global_average_pooling1d_8[0\n",
      "                                                                    ][0]']                        \n",
      "                                                                                                  \n",
      " dense_21 (Dense)            (None, 32)                   24608     ['global_average_pooling1d_9[0\n",
      "                                                                    ][0]']                        \n",
      "                                                                                                  \n",
      " dense_23 (Dense)            (None, 32)                   24608     ['global_average_pooling1d_10[\n",
      "                                                                    0][0]']                       \n",
      "                                                                                                  \n",
      " dense_25 (Dense)            (None, 256)                  196864    ['global_average_pooling1d_11[\n",
      "                                                                    0][0]']                       \n",
      "                                                                                                  \n",
      " dropout_44 (Dropout)        (None, 32)                   0         ['dense_15[0][0]']            \n",
      "                                                                                                  \n",
      " dropout_45 (Dropout)        (None, 32)                   0         ['dense_17[0][0]']            \n",
      "                                                                                                  \n",
      " dropout_46 (Dropout)        (None, 32)                   0         ['dense_19[0][0]']            \n",
      "                                                                                                  \n",
      " dropout_47 (Dropout)        (None, 32)                   0         ['dense_21[0][0]']            \n",
      "                                                                                                  \n",
      " dropout_48 (Dropout)        (None, 32)                   0         ['dense_23[0][0]']            \n",
      "                                                                                                  \n",
      " dropout_49 (Dropout)        (None, 256)                  0         ['dense_25[0][0]']            \n",
      "                                                                                                  \n",
      " dense_16 (Dense)            (None, 8)                    264       ['dropout_44[0][0]']          \n",
      "                                                                                                  \n",
      " dense_18 (Dense)            (None, 8)                    264       ['dropout_45[0][0]']          \n",
      "                                                                                                  \n",
      " dense_20 (Dense)            (None, 8)                    264       ['dropout_46[0][0]']          \n",
      "                                                                                                  \n",
      " dense_22 (Dense)            (None, 8)                    264       ['dropout_47[0][0]']          \n",
      "                                                                                                  \n",
      " dense_24 (Dense)            (None, 8)                    264       ['dropout_48[0][0]']          \n",
      "                                                                                                  \n",
      " dense_26 (Dense)            (None, 64)                   16448     ['dropout_49[0][0]']          \n",
      "                                                                                                  \n",
      " concatenate_1 (Concatenate  (None, 104)                  0         ['dense_16[0][0]',            \n",
      " )                                                                   'dense_18[0][0]',            \n",
      "                                                                     'dense_20[0][0]',            \n",
      "                                                                     'dense_22[0][0]',            \n",
      "                                                                     'dense_24[0][0]',            \n",
      "                                                                     'dense_26[0][0]']            \n",
      "                                                                                                  \n",
      " dense_27 (Dense)            (None, 512)                  53760     ['concatenate_1[0][0]']       \n",
      "                                                                                                  \n",
      " dropout_50 (Dropout)        (None, 512)                  0         ['dense_27[0][0]']            \n",
      "                                                                                                  \n",
      " dense_28 (Dense)            (None, 256)                  131328    ['dropout_50[0][0]']          \n",
      "                                                                                                  \n",
      " dense_29 (Dense)            (None, 1)                    257       ['dense_28[0][0]']            \n",
      "                                                                                                  \n",
      "==================================================================================================\n",
      "Total params: 110005257 (419.64 MB)\n",
      "Trainable params: 110005257 (419.64 MB)\n",
      "Non-trainable params: 0 (0.00 Byte)\n",
      "__________________________________________________________________________________________________\n"
     ]
    }
   ],
   "source": [
    "model = keras.models.load_model(\"/home/tkhuran3/LOLgarithm/colbert-trained\")\n",
    "model.summary()"
   ]
  },
  {
   "cell_type": "code",
   "execution_count": 3,
   "metadata": {},
   "outputs": [
    {
     "name": "stdout",
     "output_type": "stream",
     "text": [
      "You must install pydot (`pip install pydot`) and install graphviz (see instructions at https://graphviz.gitlab.io/download/) for plot_model to work.\n"
     ]
    }
   ],
   "source": [
    "keras.utils.plot_model(model, \"my_first_model_with_shape_info.png\", show_shapes=True)"
   ]
  },
  {
   "cell_type": "code",
   "execution_count": 4,
   "metadata": {},
   "outputs": [],
   "source": [
    "with open('sample_input.pkl', 'rb') as f:\n",
    "    sample_input = pickle.load(f)\n",
    "with open('sample_output.pkl', 'rb') as f:\n",
    "    sample_output = pickle.load(f)\n",
    "with open('sample_test_inputs.pkl', 'rb') as f:\n",
    "    sample_test_inputs = pickle.load(f)\n",
    "with open('sample_test_outputs.pkl', 'rb') as f:\n",
    "    sample_test_outputs = pickle.load(f)"
   ]
  },
  {
   "cell_type": "code",
   "execution_count": 5,
   "metadata": {},
   "outputs": [],
   "source": [
    "with open('colbert_inputs.pkl', 'rb') as f:\n",
    "    colbert_inputs = pickle.load(f)\n",
    "with open('colbert_output.pkl', 'rb') as f:\n",
    "    colbert_outputs = pickle.load(f)"
   ]
  },
  {
   "cell_type": "code",
   "execution_count": 85,
   "metadata": {},
   "outputs": [],
   "source": [
    "features_df= pd.read_csv(\"/home/tkhuran3/LOLgarithm/dataset/combined-features.csv\")"
   ]
  },
  {
   "cell_type": "code",
   "execution_count": 86,
   "metadata": {},
   "outputs": [
    {
     "name": "stdout",
     "output_type": "stream",
     "text": [
      "(10, 34) (200000, 34)\n"
     ]
    }
   ],
   "source": [
    "features_df_sample = features_df[:10]\n",
    "print(features_df_sample.shape, features_df.shape)"
   ]
  },
  {
   "cell_type": "code",
   "execution_count": 87,
   "metadata": {},
   "outputs": [
    {
     "name": "stdout",
     "output_type": "stream",
     "text": [
      "(10, 34) (200000, 34)\n"
     ]
    }
   ],
   "source": [
    "# features_df = features_df.transpose()\n",
    "# features_df_sample = features_df_sample.transpose()\n",
    "print(features_df_sample.shape, features_df.shape)"
   ]
  },
  {
   "cell_type": "code",
   "execution_count": 88,
   "metadata": {},
   "outputs": [
    {
     "name": "stdout",
     "output_type": "stream",
     "text": [
      "(10, 33) (200000, 33)\n"
     ]
    }
   ],
   "source": [
    "features_df_sample = features_df_sample.iloc[:, 1:]\n",
    "features_df = features_df.iloc[:, 1:]\n",
    "print(features_df_sample.shape, features_df.shape)"
   ]
  },
  {
   "cell_type": "code",
   "execution_count": 89,
   "metadata": {},
   "outputs": [],
   "source": [
    "features_df_sample = features_df_sample.values.tolist()"
   ]
  },
  {
   "cell_type": "code",
   "execution_count": 168,
   "metadata": {},
   "outputs": [
    {
     "data": {
      "text/plain": [
       "33"
      ]
     },
     "execution_count": 168,
     "metadata": {},
     "output_type": "execute_result"
    }
   ],
   "source": [
    "array_list = np.array(features_df_sample)\n",
    "array_list.shape[1]"
   ]
  },
  {
   "cell_type": "code",
   "execution_count": 78,
   "metadata": {},
   "outputs": [],
   "source": [
    "# array_list = [np.array(inner_list) for inner_list in features_df_sample]\n",
    "# reshaped_array_list = [arr.reshape(-1, 1) for arr in array_list]"
   ]
  },
  {
   "cell_type": "code",
   "execution_count": 83,
   "metadata": {},
   "outputs": [
    {
     "data": {
      "text/plain": [
       "33"
      ]
     },
     "execution_count": 83,
     "metadata": {},
     "output_type": "execute_result"
    }
   ],
   "source": [
    "len(features_df_sample[0])"
   ]
  },
  {
   "cell_type": "code",
   "execution_count": 152,
   "metadata": {},
   "outputs": [
    {
     "data": {
      "text/plain": [
       "<keras.src.layers.merging.concatenate.Concatenate at 0x7f76cadb9b70>"
      ]
     },
     "execution_count": 152,
     "metadata": {},
     "output_type": "execute_result"
    }
   ],
   "source": [
    "layers = [l for l in model.layers]\n",
    "layers[43]"
   ]
  },
  {
   "cell_type": "code",
   "execution_count": 153,
   "metadata": {},
   "outputs": [
    {
     "data": {
      "text/plain": [
       "[<KerasTensor: shape=(None, 20) dtype=int32 (created by layer 'input_19')>,\n",
       " <KerasTensor: shape=(None, 20) dtype=int32 (created by layer 'input_20')>,\n",
       " <KerasTensor: shape=(None, 20) dtype=int32 (created by layer 'input_21')>,\n",
       " <KerasTensor: shape=(None, 20) dtype=int32 (created by layer 'input_22')>,\n",
       " <KerasTensor: shape=(None, 20) dtype=int32 (created by layer 'input_23')>,\n",
       " <KerasTensor: shape=(None, 20) dtype=int32 (created by layer 'input_24')>,\n",
       " <KerasTensor: shape=(None, 20) dtype=int32 (created by layer 'input_25')>,\n",
       " <KerasTensor: shape=(None, 20) dtype=int32 (created by layer 'input_26')>,\n",
       " <KerasTensor: shape=(None, 20) dtype=int32 (created by layer 'input_27')>,\n",
       " <KerasTensor: shape=(None, 20) dtype=int32 (created by layer 'input_28')>,\n",
       " <KerasTensor: shape=(None, 20) dtype=int32 (created by layer 'input_29')>,\n",
       " <KerasTensor: shape=(None, 20) dtype=int32 (created by layer 'input_30')>,\n",
       " <KerasTensor: shape=(None, 20) dtype=int32 (created by layer 'input_31')>,\n",
       " <KerasTensor: shape=(None, 20) dtype=int32 (created by layer 'input_32')>,\n",
       " <KerasTensor: shape=(None, 20) dtype=int32 (created by layer 'input_33')>,\n",
       " <KerasTensor: shape=(None, 100) dtype=int32 (created by layer 'input_34')>,\n",
       " <KerasTensor: shape=(None, 100) dtype=int32 (created by layer 'input_35')>,\n",
       " <KerasTensor: shape=(None, 100) dtype=int32 (created by layer 'input_36')>]"
      ]
     },
     "execution_count": 153,
     "metadata": {},
     "output_type": "execute_result"
    }
   ],
   "source": [
    "model.input"
   ]
  },
  {
   "cell_type": "code",
   "execution_count": 154,
   "metadata": {},
   "outputs": [],
   "source": [
    "layers = [l for l in model.layers]\n",
    "for i in range(0,43):\n",
    "    layers[i].trainable = False\n",
    "    additional_features_input = Input(shape=(33), name=\"additional_features\")\n",
    "    concatenated_features_1 = Concatenate()([\n",
    "    model.get_layer('dense_16').output,\n",
    "    model.get_layer('dense_18').output,\n",
    "    model.get_layer('dense_20').output,\n",
    "    model.get_layer('dense_22').output,\n",
    "    model.get_layer('dense_24').output,\n",
    "    model.get_layer('dense_26').output])"
   ]
  },
  {
   "cell_type": "code",
   "execution_count": 171,
   "metadata": {},
   "outputs": [
    {
     "data": {
      "text/plain": [
       "104"
      ]
     },
     "execution_count": 171,
     "metadata": {},
     "output_type": "execute_result"
    }
   ],
   "source": [
    "additional_dense.shape[1]"
   ]
  },
  {
   "cell_type": "code",
   "execution_count": 155,
   "metadata": {},
   "outputs": [],
   "source": [
    "additional_features_input = Input(shape=(33), name=\"additional_features\")\n",
    "additional_dense = Dense(104, activation='relu')(additional_features_input)\n",
    "concatenated_features_2 = Concatenate()([concatenated_features_1, additional_dense])"
   ]
  },
  {
   "cell_type": "code",
   "execution_count": 156,
   "metadata": {},
   "outputs": [],
   "source": [
    "# Continue the model\n",
    "x = Dense(128, activation='relu')(concatenated_features_2)\n",
    "x = Dropout(0.5)(x)\n",
    "x = Dense(64, activation='relu')(x)\n",
    "x = Dropout(0.5)(x)\n",
    "\n",
    "# Continue with your desired architecture\n",
    "x = Dense(512, activation='relu')(x)\n",
    "x = Dropout(0.5)(x)\n",
    "x = Dense(256, activation='relu')(x)\n",
    "output = Dense(1, activation='sigmoid')(x)"
   ]
  },
  {
   "cell_type": "code",
   "execution_count": 157,
   "metadata": {},
   "outputs": [
    {
     "name": "stdout",
     "output_type": "stream",
     "text": [
      "Model: \"model_3\"\n",
      "__________________________________________________________________________________________________\n",
      " Layer (type)                Output Shape                 Param #   Connected to                  \n",
      "==================================================================================================\n",
      " input_19 (InputLayer)       [(None, 20)]                 0         []                            \n",
      "                                                                                                  \n",
      " input_20 (InputLayer)       [(None, 20)]                 0         []                            \n",
      "                                                                                                  \n",
      " input_21 (InputLayer)       [(None, 20)]                 0         []                            \n",
      "                                                                                                  \n",
      " input_22 (InputLayer)       [(None, 20)]                 0         []                            \n",
      "                                                                                                  \n",
      " input_23 (InputLayer)       [(None, 20)]                 0         []                            \n",
      "                                                                                                  \n",
      " input_24 (InputLayer)       [(None, 20)]                 0         []                            \n",
      "                                                                                                  \n",
      " input_25 (InputLayer)       [(None, 20)]                 0         []                            \n",
      "                                                                                                  \n",
      " input_26 (InputLayer)       [(None, 20)]                 0         []                            \n",
      "                                                                                                  \n",
      " input_27 (InputLayer)       [(None, 20)]                 0         []                            \n",
      "                                                                                                  \n",
      " input_28 (InputLayer)       [(None, 20)]                 0         []                            \n",
      "                                                                                                  \n",
      " input_29 (InputLayer)       [(None, 20)]                 0         []                            \n",
      "                                                                                                  \n",
      " input_30 (InputLayer)       [(None, 20)]                 0         []                            \n",
      "                                                                                                  \n",
      " input_31 (InputLayer)       [(None, 20)]                 0         []                            \n",
      "                                                                                                  \n",
      " input_32 (InputLayer)       [(None, 20)]                 0         []                            \n",
      "                                                                                                  \n",
      " input_33 (InputLayer)       [(None, 20)]                 0         []                            \n",
      "                                                                                                  \n",
      " input_34 (InputLayer)       [(None, 100)]                0         []                            \n",
      "                                                                                                  \n",
      " input_35 (InputLayer)       [(None, 100)]                0         []                            \n",
      "                                                                                                  \n",
      " input_36 (InputLayer)       [(None, 100)]                0         []                            \n",
      "                                                                                                  \n",
      " bert (TFBertMainLayer)      multiple                     1094822   ['input_19[0][0]',            \n",
      "                                                          40         'input_20[0][0]',            \n",
      "                                                                     'input_21[0][0]',            \n",
      "                                                                     'input_22[0][0]',            \n",
      "                                                                     'input_23[0][0]',            \n",
      "                                                                     'input_24[0][0]',            \n",
      "                                                                     'input_25[0][0]',            \n",
      "                                                                     'input_26[0][0]',            \n",
      "                                                                     'input_27[0][0]',            \n",
      "                                                                     'input_28[0][0]',            \n",
      "                                                                     'input_29[0][0]',            \n",
      "                                                                     'input_30[0][0]',            \n",
      "                                                                     'input_31[0][0]',            \n",
      "                                                                     'input_32[0][0]',            \n",
      "                                                                     'input_33[0][0]',            \n",
      "                                                                     'input_34[0][0]',            \n",
      "                                                                     'input_35[0][0]',            \n",
      "                                                                     'input_36[0][0]']            \n",
      "                                                                                                  \n",
      " global_average_pooling1d_6  (None, 768)                  0         ['bert[0][0]']                \n",
      "  (GlobalAveragePooling1D)                                                                        \n",
      "                                                                                                  \n",
      " global_average_pooling1d_7  (None, 768)                  0         ['bert[1][0]']                \n",
      "  (GlobalAveragePooling1D)                                                                        \n",
      "                                                                                                  \n",
      " global_average_pooling1d_8  (None, 768)                  0         ['bert[2][0]']                \n",
      "  (GlobalAveragePooling1D)                                                                        \n",
      "                                                                                                  \n",
      " global_average_pooling1d_9  (None, 768)                  0         ['bert[3][0]']                \n",
      "  (GlobalAveragePooling1D)                                                                        \n",
      "                                                                                                  \n",
      " global_average_pooling1d_1  (None, 768)                  0         ['bert[4][0]']                \n",
      " 0 (GlobalAveragePooling1D)                                                                       \n",
      "                                                                                                  \n",
      " global_average_pooling1d_1  (None, 768)                  0         ['bert[5][0]']                \n",
      " 1 (GlobalAveragePooling1D)                                                                       \n",
      "                                                                                                  \n",
      " dense_15 (Dense)            (None, 32)                   24608     ['global_average_pooling1d_6[0\n",
      "                                                                    ][0]']                        \n",
      "                                                                                                  \n",
      " dense_17 (Dense)            (None, 32)                   24608     ['global_average_pooling1d_7[0\n",
      "                                                                    ][0]']                        \n",
      "                                                                                                  \n",
      " dense_19 (Dense)            (None, 32)                   24608     ['global_average_pooling1d_8[0\n",
      "                                                                    ][0]']                        \n",
      "                                                                                                  \n",
      " dense_21 (Dense)            (None, 32)                   24608     ['global_average_pooling1d_9[0\n",
      "                                                                    ][0]']                        \n",
      "                                                                                                  \n",
      " dense_23 (Dense)            (None, 32)                   24608     ['global_average_pooling1d_10[\n",
      "                                                                    0][0]']                       \n",
      "                                                                                                  \n",
      " dense_25 (Dense)            (None, 256)                  196864    ['global_average_pooling1d_11[\n",
      "                                                                    0][0]']                       \n",
      "                                                                                                  \n",
      " dropout_44 (Dropout)        (None, 32)                   0         ['dense_15[0][0]']            \n",
      "                                                                                                  \n",
      " dropout_45 (Dropout)        (None, 32)                   0         ['dense_17[0][0]']            \n",
      "                                                                                                  \n",
      " dropout_46 (Dropout)        (None, 32)                   0         ['dense_19[0][0]']            \n",
      "                                                                                                  \n",
      " dropout_47 (Dropout)        (None, 32)                   0         ['dense_21[0][0]']            \n",
      "                                                                                                  \n",
      " dropout_48 (Dropout)        (None, 32)                   0         ['dense_23[0][0]']            \n",
      "                                                                                                  \n",
      " dropout_49 (Dropout)        (None, 256)                  0         ['dense_25[0][0]']            \n",
      "                                                                                                  \n",
      " dense_16 (Dense)            (None, 8)                    264       ['dropout_44[0][0]']          \n",
      "                                                                                                  \n",
      " dense_18 (Dense)            (None, 8)                    264       ['dropout_45[0][0]']          \n",
      "                                                                                                  \n",
      " dense_20 (Dense)            (None, 8)                    264       ['dropout_46[0][0]']          \n",
      "                                                                                                  \n",
      " dense_22 (Dense)            (None, 8)                    264       ['dropout_47[0][0]']          \n",
      "                                                                                                  \n",
      " dense_24 (Dense)            (None, 8)                    264       ['dropout_48[0][0]']          \n",
      "                                                                                                  \n",
      " dense_26 (Dense)            (None, 64)                   16448     ['dropout_49[0][0]']          \n",
      "                                                                                                  \n",
      " additional_features (Input  [(None, 33)]                 0         []                            \n",
      " Layer)                                                                                           \n",
      "                                                                                                  \n",
      " concatenate_236 (Concatena  (None, 104)                  0         ['dense_16[0][0]',            \n",
      " te)                                                                 'dense_18[0][0]',            \n",
      "                                                                     'dense_20[0][0]',            \n",
      "                                                                     'dense_22[0][0]',            \n",
      "                                                                     'dense_24[0][0]',            \n",
      "                                                                     'dense_26[0][0]']            \n",
      "                                                                                                  \n",
      " dense_36 (Dense)            (None, 104)                  3536      ['additional_features[0][0]'] \n",
      "                                                                                                  \n",
      " concatenate_237 (Concatena  (None, 208)                  0         ['concatenate_236[0][0]',     \n",
      " te)                                                                 'dense_36[0][0]']            \n",
      "                                                                                                  \n",
      " dense_37 (Dense)            (None, 128)                  26752     ['concatenate_237[0][0]']     \n",
      "                                                                                                  \n",
      " dropout_87 (Dropout)        (None, 128)                  0         ['dense_37[0][0]']            \n",
      "                                                                                                  \n",
      " dense_38 (Dense)            (None, 64)                   8256      ['dropout_87[0][0]']          \n",
      "                                                                                                  \n",
      " dropout_88 (Dropout)        (None, 64)                   0         ['dense_38[0][0]']            \n",
      "                                                                                                  \n",
      " dense_39 (Dense)            (None, 512)                  33280     ['dropout_88[0][0]']          \n",
      "                                                                                                  \n",
      " dropout_89 (Dropout)        (None, 512)                  0         ['dense_39[0][0]']            \n",
      "                                                                                                  \n",
      " dense_40 (Dense)            (None, 256)                  131328    ['dropout_89[0][0]']          \n",
      "                                                                                                  \n",
      " dense_41 (Dense)            (None, 1)                    257       ['dense_40[0][0]']            \n",
      "                                                                                                  \n",
      "==================================================================================================\n",
      "Total params: 110023321 (419.71 MB)\n",
      "Trainable params: 203409 (794.57 KB)\n",
      "Non-trainable params: 109819912 (418.93 MB)\n",
      "__________________________________________________________________________________________________\n"
     ]
    }
   ],
   "source": [
    "result_model = Model(inputs=[model.input, additional_features_input], outputs=output)\n",
    "result_model.summary()"
   ]
  },
  {
   "cell_type": "code",
   "execution_count": 158,
   "metadata": {},
   "outputs": [],
   "source": [
    "result_model.compile(optimizer=Adam(3e-5),\n",
    "              loss=tf.keras.losses.BinaryCrossentropy(from_logits=True),  \n",
    "              metrics=['accuracy'])"
   ]
  },
  {
   "cell_type": "code",
   "execution_count": 160,
   "metadata": {},
   "outputs": [
    {
     "name": "stdout",
     "output_type": "stream",
     "text": [
      "Epoch 1/2\n"
     ]
    },
    {
     "name": "stderr",
     "output_type": "stream",
     "text": [
      "/home/tkhuran3/.local/lib/python3.10/site-packages/keras/src/backend.py:5818: UserWarning: \"`binary_crossentropy` received `from_logits=True`, but the `output` argument was produced by a Sigmoid activation and thus does not represent logits. Was this intended?\n",
      "  output, from_logits = _get_logits(\n"
     ]
    },
    {
     "name": "stdout",
     "output_type": "stream",
     "text": [
      "1/1 [==============================] - 54s 54s/step - loss: 123.0847 - accuracy: 0.6000\n",
      "Epoch 2/2\n",
      "1/1 [==============================] - 1s 823ms/step - loss: 65.0350 - accuracy: 0.7000\n"
     ]
    }
   ],
   "source": [
    "history = result_model.fit([sample_input, array_list] ,sample_output, batch_size=64, epochs=2)"
   ]
  },
  {
   "cell_type": "code",
   "execution_count": 166,
   "metadata": {},
   "outputs": [
    {
     "name": "stdout",
     "output_type": "stream",
     "text": [
      "1/1 [==============================] - 0s 335ms/step\n"
     ]
    }
   ],
   "source": [
    "y_pred = result_model.predict([sample_input, array_list])"
   ]
  },
  {
   "cell_type": "code",
   "execution_count": null,
   "metadata": {},
   "outputs": [],
   "source": [
    "mae = sklearn.metrics.mean_absolute_error(y_true, y_pred)\n",
    "mse = sklearn.metrics.mean_squared_error(y_true, y_pred)\n",
    "r2 = sklearn.metrics.r2_score(y_true, y_pred)\n"
   ]
  },
  {
   "cell_type": "markdown",
   "metadata": {},
   "source": [
    "After thresholding for binary classification"
   ]
  },
  {
   "cell_type": "code",
   "execution_count": 167,
   "metadata": {},
   "outputs": [
    {
     "data": {
      "text/plain": [
       "array([[0],\n",
       "       [0],\n",
       "       [0],\n",
       "       [0],\n",
       "       [0],\n",
       "       [0],\n",
       "       [0],\n",
       "       [0],\n",
       "       [0],\n",
       "       [0]])"
      ]
     },
     "execution_count": 167,
     "metadata": {},
     "output_type": "execute_result"
    }
   ],
   "source": [
    "y_pred = (y_pred > 0.5).astype(int)\n",
    "y_pred"
   ]
  },
  {
   "cell_type": "code",
   "execution_count": 38,
   "metadata": {},
   "outputs": [
    {
     "name": "stdout",
     "output_type": "stream",
     "text": [
      "[[6 0]\n",
      " [1 3]]\n"
     ]
    }
   ],
   "source": [
    "matrix = sklearn.metrics.confusion_matrix(y_true, y_pred)\n",
    "print(matrix)\n",
    "TP,TN,FP,FN = matrix[1][1],matrix[0][0],matrix[0][1],matrix[1][0]\n",
    "Accuracy = (TP+TN)/(TP+FP+FN+TN)\n",
    "Precision = TP/(TP+FP)\n",
    "Recall = TP/(TP+FN)\n",
    "F1 = 2*(Recall * Precision) / (Recall + Precision)\n"
   ]
  },
  {
   "cell_type": "code",
   "execution_count": 39,
   "metadata": {},
   "outputs": [
    {
     "name": "stdout",
     "output_type": "stream",
     "text": [
      "Acc 0.9 Prec 1.0 Rec 0.75 F1 0.8571428571428571\n"
     ]
    }
   ],
   "source": [
    "print('Acc', Accuracy, 'Prec', Precision, 'Rec', Recall, 'F1',F1)"
   ]
  },
  {
   "cell_type": "code",
   "execution_count": 43,
   "metadata": {},
   "outputs": [],
   "source": [
    "accuracy = accuracy_score(y_true, y_pred)\n",
    "precision = precision_score(y_true, y_pred)\n",
    "recall = recall_score(y_true, y_pred)\n",
    "f1 = f1_score(y_true, y_pred)\n"
   ]
  },
  {
   "cell_type": "code",
   "execution_count": 44,
   "metadata": {},
   "outputs": [
    {
     "name": "stdout",
     "output_type": "stream",
     "text": [
      "Acc 0.9 Prec 1.0 Rec 0.75 F1 0.8571428571428571\n"
     ]
    }
   ],
   "source": [
    "print('Acc', accuracy, 'Prec', precision, 'Rec', recall, 'F1',f1)"
   ]
  },
  {
   "cell_type": "code",
   "execution_count": 55,
   "metadata": {},
   "outputs": [],
   "source": [
    "model.compile(optimizer=Adam(3e-5), loss=BinaryCrossentropy(from_logits=True))"
   ]
  },
  {
   "cell_type": "code",
   "execution_count": 56,
   "metadata": {},
   "outputs": [
    {
     "name": "stdout",
     "output_type": "stream",
     "text": [
      "Epoch 1/2\n"
     ]
    },
    {
     "name": "stderr",
     "output_type": "stream",
     "text": [
      "/home/tkhuran3/.local/lib/python3.10/site-packages/keras/src/backend.py:5818: UserWarning: \"`binary_crossentropy` received `from_logits=True`, but the `output` argument was produced by a Sigmoid activation and thus does not represent logits. Was this intended?\n",
      "  output, from_logits = _get_logits(\n"
     ]
    },
    {
     "name": "stdout",
     "output_type": "stream",
     "text": [
      "1/1 [==============================] - 42s 42s/step - loss: 0.1870 - val_loss: 5.1533e-04\n",
      "Epoch 2/2\n",
      "1/1 [==============================] - 1s 1s/step - loss: 0.0010 - val_loss: 8.3547e-04\n"
     ]
    }
   ],
   "source": [
    "history = model.fit(sample_input, sample_output, batch_size=64, epochs=2, validation_split=0.2)"
   ]
  },
  {
   "cell_type": "code",
   "execution_count": 62,
   "metadata": {},
   "outputs": [
    {
     "data": {
      "text/plain": [
       "18"
      ]
     },
     "execution_count": 62,
     "metadata": {},
     "output_type": "execute_result"
    }
   ],
   "source": [
    "len(sample_test_inputs)"
   ]
  },
  {
   "cell_type": "code",
   "execution_count": 76,
   "metadata": {},
   "outputs": [
    {
     "name": "stdout",
     "output_type": "stream",
     "text": [
      "1/1 - 0s - loss: 3.0752 - 330ms/epoch - 330ms/step\n"
     ]
    }
   ],
   "source": [
    "test_scores = model.evaluate(sample_test_inputs, sample_test_outputs, verbose=2)\n"
   ]
  },
  {
   "cell_type": "code",
   "execution_count": 81,
   "metadata": {},
   "outputs": [
    {
     "name": "stdout",
     "output_type": "stream",
     "text": [
      "Epoch 1/2\n",
      "1/1 [==============================] - 1s 1s/step - loss: 8.3640e-05 - val_loss: 1.3510e-04\n",
      "Epoch 2/2\n",
      "1/1 [==============================] - 1s 979ms/step - loss: 1.3846e-04 - val_loss: 1.3349e-04\n"
     ]
    }
   ],
   "source": [
    "history = model.fit(sample_input, sample_output, batch_size=64, epochs=2, validation_split=0.2)"
   ]
  },
  {
   "cell_type": "code",
   "execution_count": null,
   "metadata": {},
   "outputs": [],
   "source": [
    "model.save(\"model\")"
   ]
  },
  {
   "cell_type": "code",
   "execution_count": 84,
   "metadata": {},
   "outputs": [],
   "source": [
    "model = keras.models.load_model('model')"
   ]
  },
  {
   "cell_type": "code",
   "execution_count": null,
   "metadata": {},
   "outputs": [],
   "source": [
    "model.summary()"
   ]
  },
  {
   "cell_type": "code",
   "execution_count": null,
   "metadata": {},
   "outputs": [],
   "source": []
  }
 ],
 "metadata": {
  "kernelspec": {
   "display_name": "Python 3",
   "language": "python",
   "name": "python3"
  },
  "language_info": {
   "codemirror_mode": {
    "name": "ipython",
    "version": 3
   },
   "file_extension": ".py",
   "mimetype": "text/x-python",
   "name": "python",
   "nbconvert_exporter": "python",
   "pygments_lexer": "ipython3",
<<<<<<< HEAD:experiments/colbert_train.ipynb
   "version": "3.9.6"
=======
   "version": "3.10.12"
>>>>>>> colbert:notebooks/colbert_train.ipynb
  }
 },
 "nbformat": 4,
 "nbformat_minor": 2
}
