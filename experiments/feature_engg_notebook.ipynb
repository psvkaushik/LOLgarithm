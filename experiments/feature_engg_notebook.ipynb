{
  "cells": [
    {
      "cell_type": "code",
      "source": [
        "!pip install shap"
      ],
      "metadata": {
        "colab": {
          "base_uri": "https://localhost:8080/"
        },
        "id": "WvZLtskfCvft",
        "outputId": "2d0228f2-8984-4c86-8fda-997981ccf17c"
      },
      "execution_count": 1,
      "outputs": [
        {
          "output_type": "stream",
          "name": "stdout",
          "text": [
            "Requirement already satisfied: shap in /usr/local/lib/python3.10/dist-packages (0.43.0)\n",
            "Requirement already satisfied: numpy in /usr/local/lib/python3.10/dist-packages (from shap) (1.23.5)\n",
            "Requirement already satisfied: scipy in /usr/local/lib/python3.10/dist-packages (from shap) (1.11.3)\n",
            "Requirement already satisfied: scikit-learn in /usr/local/lib/python3.10/dist-packages (from shap) (1.2.2)\n",
            "Requirement already satisfied: pandas in /usr/local/lib/python3.10/dist-packages (from shap) (1.5.3)\n",
            "Requirement already satisfied: tqdm>=4.27.0 in /usr/local/lib/python3.10/dist-packages (from shap) (4.66.1)\n",
            "Requirement already satisfied: packaging>20.9 in /usr/local/lib/python3.10/dist-packages (from shap) (23.2)\n",
            "Requirement already satisfied: slicer==0.0.7 in /usr/local/lib/python3.10/dist-packages (from shap) (0.0.7)\n",
            "Requirement already satisfied: numba in /usr/local/lib/python3.10/dist-packages (from shap) (0.58.1)\n",
            "Requirement already satisfied: cloudpickle in /usr/local/lib/python3.10/dist-packages (from shap) (2.2.1)\n",
            "Requirement already satisfied: llvmlite<0.42,>=0.41.0dev0 in /usr/local/lib/python3.10/dist-packages (from numba->shap) (0.41.1)\n",
            "Requirement already satisfied: python-dateutil>=2.8.1 in /usr/local/lib/python3.10/dist-packages (from pandas->shap) (2.8.2)\n",
            "Requirement already satisfied: pytz>=2020.1 in /usr/local/lib/python3.10/dist-packages (from pandas->shap) (2023.3.post1)\n",
            "Requirement already satisfied: joblib>=1.1.1 in /usr/local/lib/python3.10/dist-packages (from scikit-learn->shap) (1.3.2)\n",
            "Requirement already satisfied: threadpoolctl>=2.0.0 in /usr/local/lib/python3.10/dist-packages (from scikit-learn->shap) (3.2.0)\n",
            "Requirement already satisfied: six>=1.5 in /usr/local/lib/python3.10/dist-packages (from python-dateutil>=2.8.1->pandas->shap) (1.16.0)\n"
          ]
        }
      ]
    },
    {
      "cell_type": "code",
      "execution_count": 14,
      "metadata": {
        "id": "TIcNDJVxkNQ8"
      },
      "outputs": [],
      "source": [
        "import pandas as pd\n",
        "from sklearn.model_selection import train_test_split\n",
        "from sklearn.tree import DecisionTreeClassifier\n",
        "from sklearn.metrics import classification_report\n",
        "from sklearn import tree\n",
        "import shap\n",
        "import graphviz\n",
        "import numpy as np\n",
        "import scipy\n",
        "import sklearn"
      ]
    },
    {
      "cell_type": "code",
      "execution_count": 3,
      "metadata": {
        "id": "lsZgBAkclNKK"
      },
      "outputs": [],
      "source": [
        "dataset = pd.read_csv(r\"/content/drive/MyDrive/CSC791:NLP/project/dataset.csv\")\n",
        "# Separate the X(jokes) and the Y(is_humor or not)\n",
        "\n",
        "jokes = list(dataset['text'])\n",
        "labels = list(dataset['humor'])"
      ]
    },
    {
      "cell_type": "code",
      "execution_count": 4,
      "metadata": {
        "colab": {
          "base_uri": "https://localhost:8080/"
        },
        "id": "TlJbW9RTkwk-",
        "outputId": "36223eea-208c-471e-8aea-4388f6c9454a"
      },
      "outputs": [
        {
          "output_type": "stream",
          "name": "stdout",
          "text": [
            "(200000, 10)\n",
            "(200000, 15)\n",
            "(200000, 11)\n"
          ]
        }
      ],
      "source": [
        "semantic_features = pd.read_csv('/content/drive/MyDrive/CSC791:NLP/project/semantic_features_scs.csv')\n",
        "syntactic_features = pd.read_csv('/content/drive/MyDrive/CSC791:NLP/project/syntactic-features.csv')\n",
        "nrclex_features = pd.read_csv('/content/drive/MyDrive/CSC791:NLP/project/nrclex-features.csv')\n",
        "print(semantic_features.shape)\n",
        "print(syntactic_features.shape)\n",
        "print(nrclex_features.shape)"
      ]
    },
    {
      "cell_type": "code",
      "source": [
        "nrclex_features = nrclex_features.drop(nrclex_features.columns[0], axis=1)\n",
        "syntactic_features = syntactic_features.drop(syntactic_features.columns[0], axis=1)\n",
        "semantic_features = semantic_features.drop(semantic_features.columns[0], axis=1)\n",
        "print(semantic_features.shape)\n",
        "print(syntactic_features.shape)\n",
        "print(nrclex_features.shape)"
      ],
      "metadata": {
        "colab": {
          "base_uri": "https://localhost:8080/"
        },
        "id": "Rkf8RsmnA7sk",
        "outputId": "8500acf0-ecc5-4283-cda1-9176408dd427"
      },
      "execution_count": 5,
      "outputs": [
        {
          "output_type": "stream",
          "name": "stdout",
          "text": [
            "(200000, 9)\n",
            "(200000, 14)\n",
            "(200000, 10)\n"
          ]
        }
      ]
    },
    {
      "cell_type": "markdown",
      "source": [
        "### Semantic Features DT"
      ],
      "metadata": {
        "id": "8b2a1UayB0OM"
      }
    },
    {
      "cell_type": "code",
      "execution_count": 6,
      "metadata": {
        "colab": {
          "base_uri": "https://localhost:8080/"
        },
        "id": "xdt3P5PfllYL",
        "outputId": "fb97f261-4431-4975-e66d-4518a52da4aa"
      },
      "outputs": [
        {
          "output_type": "stream",
          "name": "stdout",
          "text": [
            "disconnection               0\n",
            "repetition                  0\n",
            "sense_combination_score     0\n",
            "farmost_path               26\n",
            "closest_path               26\n",
            "alliteration                0\n",
            "max_alliteration            0\n",
            "rhyme                       0\n",
            "max_rhyme                   0\n",
            "dtype: int64\n"
          ]
        }
      ],
      "source": [
        "nan_count = semantic_features.isnull().sum()\n",
        "print(nan_count)"
      ]
    },
    {
      "cell_type": "code",
      "execution_count": 7,
      "metadata": {
        "id": "PzRZMU4ql1j-"
      },
      "outputs": [],
      "source": [
        "semantic_features = semantic_features.fillna(0)"
      ]
    },
    {
      "cell_type": "code",
      "execution_count": 8,
      "metadata": {
        "colab": {
          "base_uri": "https://localhost:8080/"
        },
        "id": "K_tz8qDtl1mc",
        "outputId": "2c8a55e2-a4d7-4be1-899a-e1e368841624"
      },
      "outputs": [
        {
          "output_type": "stream",
          "name": "stdout",
          "text": [
            "disconnection              0\n",
            "repetition                 0\n",
            "sense_combination_score    0\n",
            "farmost_path               0\n",
            "closest_path               0\n",
            "alliteration               0\n",
            "max_alliteration           0\n",
            "rhyme                      0\n",
            "max_rhyme                  0\n",
            "dtype: int64\n"
          ]
        }
      ],
      "source": [
        "nan_count = semantic_features.isnull().sum()\n",
        "print(nan_count)"
      ]
    },
    {
      "cell_type": "code",
      "execution_count": 9,
      "metadata": {
        "id": "JLrm2be_lAbP"
      },
      "outputs": [],
      "source": [
        "train_data_X, test_data_X, train_data_Y, test_data_Y = train_test_split(semantic_features, labels, test_size=0.3)"
      ]
    },
    {
      "cell_type": "code",
      "execution_count": 10,
      "metadata": {
        "colab": {
          "base_uri": "https://localhost:8080/"
        },
        "id": "4S-uUIpOlPlR",
        "outputId": "3518a128-1070-4ce9-b6db-bbb209bb70f4"
      },
      "outputs": [
        {
          "output_type": "stream",
          "name": "stdout",
          "text": [
            "              precision    recall  f1-score   support\n",
            "\n",
            "       False       0.64      0.64      0.64     29558\n",
            "        True       0.65      0.64      0.65     30442\n",
            "\n",
            "    accuracy                           0.64     60000\n",
            "   macro avg       0.64      0.64      0.64     60000\n",
            "weighted avg       0.64      0.64      0.64     60000\n",
            "\n"
          ]
        }
      ],
      "source": [
        "model = DecisionTreeClassifier()\n",
        "model.fit(train_data_X, train_data_Y)\n",
        "\n",
        "preds = model.predict(test_data_X)\n",
        "print(classification_report(preds, test_data_Y))"
      ]
    },
    {
      "cell_type": "markdown",
      "source": [
        "### Syntactic Features DT"
      ],
      "metadata": {
        "id": "rA5LGrTMB9pF"
      }
    },
    {
      "cell_type": "code",
      "source": [
        "train_data_X, test_data_X, train_data_Y, test_data_Y = train_test_split(syntactic_features, labels, test_size=0.3)\n",
        "\n",
        "model = DecisionTreeClassifier()\n",
        "model.fit(train_data_X, train_data_Y)\n",
        "\n",
        "preds = model.predict(test_data_X)\n",
        "print(classification_report(preds, test_data_Y))"
      ],
      "metadata": {
        "colab": {
          "base_uri": "https://localhost:8080/"
        },
        "id": "2JlY3vALB_f8",
        "outputId": "37a81a18-e1b8-4ab1-f555-0ac89a20dd98"
      },
      "execution_count": 11,
      "outputs": [
        {
          "output_type": "stream",
          "name": "stdout",
          "text": [
            "              precision    recall  f1-score   support\n",
            "\n",
            "       False       0.78      0.70      0.74     33492\n",
            "        True       0.67      0.75      0.71     26508\n",
            "\n",
            "    accuracy                           0.72     60000\n",
            "   macro avg       0.72      0.73      0.72     60000\n",
            "weighted avg       0.73      0.72      0.73     60000\n",
            "\n"
          ]
        }
      ]
    },
    {
      "cell_type": "markdown",
      "source": [
        "#### NRCLex Features DT"
      ],
      "metadata": {
        "id": "gvXrhVreCKc5"
      }
    },
    {
      "cell_type": "code",
      "source": [
        "train_data_X, test_data_X, train_data_Y, test_data_Y = train_test_split(nrclex_features, labels, test_size=0.3)\n",
        "\n",
        "model = DecisionTreeClassifier()\n",
        "model.fit(train_data_X, train_data_Y)\n",
        "\n",
        "preds = model.predict(test_data_X)\n",
        "print(classification_report(preds, test_data_Y))"
      ],
      "metadata": {
        "colab": {
          "base_uri": "https://localhost:8080/"
        },
        "id": "qIVKhZI0CGSF",
        "outputId": "4b805f20-b892-4922-f3b9-e405fdbd20cc"
      },
      "execution_count": 12,
      "outputs": [
        {
          "output_type": "stream",
          "name": "stdout",
          "text": [
            "              precision    recall  f1-score   support\n",
            "\n",
            "       False       0.59      0.69      0.63     25646\n",
            "        True       0.73      0.64      0.68     34354\n",
            "\n",
            "    accuracy                           0.66     60000\n",
            "   macro avg       0.66      0.66      0.66     60000\n",
            "weighted avg       0.67      0.66      0.66     60000\n",
            "\n"
          ]
        }
      ]
    },
    {
      "cell_type": "markdown",
      "source": [
        "### Combined Features with SHAP"
      ],
      "metadata": {
        "id": "9Gat4FjjCTq3"
      }
    },
    {
      "cell_type": "code",
      "source": [
        "combined_features = pd.concat([nrclex_features, syntactic_features, semantic_features], axis=1)\n",
        "combined_features"
      ],
      "metadata": {
        "colab": {
          "base_uri": "https://localhost:8080/",
          "height": 444
        },
        "id": "bmhJ5K9oCO2O",
        "outputId": "6cb56cc7-e892-401a-a5f3-4c735a4a6028"
      },
      "execution_count": 13,
      "outputs": [
        {
          "output_type": "execute_result",
          "data": {
            "text/plain": [
              "            fear     anger  anticipation     trust  surprise  positive  \\\n",
              "0       0.000000  0.000000           0.0  0.000000      0.00  0.000000   \n",
              "1       0.000000  0.000000           0.0  0.000000      0.00  0.000000   \n",
              "2       0.020000  0.020000           0.0  0.000000      0.02  0.000000   \n",
              "3       0.000000  0.000000           0.0  0.125000      0.00  0.000000   \n",
              "4       0.078333  0.020000           0.0  0.033333      0.02  0.033333   \n",
              "...          ...       ...           ...       ...       ...       ...   \n",
              "199995  0.000000  0.050000           0.0  0.000000      0.00  0.000000   \n",
              "199996  0.016667  0.016667           0.0  0.000000      0.00  0.083333   \n",
              "199997  0.000000  0.000000           0.0  0.000000      0.00  0.000000   \n",
              "199998  0.000000  0.050000           0.0  0.000000      0.00  0.100000   \n",
              "199999  0.000000  0.000000           0.0  0.000000      0.00  0.000000   \n",
              "\n",
              "        negative   sadness   disgust  joy  ...      rpnv  disconnection  \\\n",
              "0       0.000000  0.000000  0.000000  0.0  ...  0.000000       0.941129   \n",
              "1       0.000000  0.000000  0.000000  0.0  ...  0.666667       0.826847   \n",
              "2       0.020000  0.020000  0.000000  0.0  ...  0.500000       0.818388   \n",
              "3       0.000000  0.000000  0.000000  0.0  ...  0.000000       0.965455   \n",
              "4       0.045000  0.045000  0.025000  0.0  ...  0.666667       0.913695   \n",
              "...          ...       ...       ...  ...  ...       ...            ...   \n",
              "199995  0.050000  0.000000  0.000000  0.0  ...  0.500000       0.957222   \n",
              "199996  0.058333  0.016667  0.058333  0.0  ...  0.666667       0.868705   \n",
              "199997  0.000000  0.000000  0.000000  0.0  ...  0.000000       0.947203   \n",
              "199998  0.050000  0.000000  0.000000  0.0  ...  0.000000       0.826061   \n",
              "199999  0.000000  0.000000  0.000000  0.0  ...  0.500000       0.917774   \n",
              "\n",
              "        repetition  sense_combination_score  farmost_path  closest_path  \\\n",
              "0        -0.256623                  59040.0      0.500000      0.050000   \n",
              "1        -0.003797                  31680.0      0.500000      0.045455   \n",
              "2        -0.071782                 123760.0      0.333333      0.043478   \n",
              "3         0.019324                    480.0      0.333333      0.062500   \n",
              "4        -0.570869                    880.0      0.500000      0.047619   \n",
              "...            ...                      ...           ...           ...   \n",
              "199995   -0.028747                    378.0      0.500000      0.050000   \n",
              "199996   -0.034454                   8820.0      0.500000      0.050000   \n",
              "199997   -0.125161                   2730.0      0.500000      0.041667   \n",
              "199998   -0.173908                     40.0      0.333333      0.058824   \n",
              "199999   -0.613046                  57750.0      0.500000      0.037037   \n",
              "\n",
              "        alliteration  max_alliteration  rhyme  max_rhyme  \n",
              "0                  0                 1      0          1  \n",
              "1                  0                 1      0          1  \n",
              "2                  0                 1      1          2  \n",
              "3                  0                 1      0          1  \n",
              "4                  0                 1      0          1  \n",
              "...              ...               ...    ...        ...  \n",
              "199995             0                 1      0          1  \n",
              "199996             0                 1      1          2  \n",
              "199997             1                 2      1          2  \n",
              "199998             0                 1      0          1  \n",
              "199999             0                 1      0          1  \n",
              "\n",
              "[200000 rows x 33 columns]"
            ],
            "text/html": [
              "\n",
              "  <div id=\"df-39aab0d9-e087-4765-9fb6-9d83bcdb81b9\" class=\"colab-df-container\">\n",
              "    <div>\n",
              "<style scoped>\n",
              "    .dataframe tbody tr th:only-of-type {\n",
              "        vertical-align: middle;\n",
              "    }\n",
              "\n",
              "    .dataframe tbody tr th {\n",
              "        vertical-align: top;\n",
              "    }\n",
              "\n",
              "    .dataframe thead th {\n",
              "        text-align: right;\n",
              "    }\n",
              "</style>\n",
              "<table border=\"1\" class=\"dataframe\">\n",
              "  <thead>\n",
              "    <tr style=\"text-align: right;\">\n",
              "      <th></th>\n",
              "      <th>fear</th>\n",
              "      <th>anger</th>\n",
              "      <th>anticipation</th>\n",
              "      <th>trust</th>\n",
              "      <th>surprise</th>\n",
              "      <th>positive</th>\n",
              "      <th>negative</th>\n",
              "      <th>sadness</th>\n",
              "      <th>disgust</th>\n",
              "      <th>joy</th>\n",
              "      <th>...</th>\n",
              "      <th>rpnv</th>\n",
              "      <th>disconnection</th>\n",
              "      <th>repetition</th>\n",
              "      <th>sense_combination_score</th>\n",
              "      <th>farmost_path</th>\n",
              "      <th>closest_path</th>\n",
              "      <th>alliteration</th>\n",
              "      <th>max_alliteration</th>\n",
              "      <th>rhyme</th>\n",
              "      <th>max_rhyme</th>\n",
              "    </tr>\n",
              "  </thead>\n",
              "  <tbody>\n",
              "    <tr>\n",
              "      <th>0</th>\n",
              "      <td>0.000000</td>\n",
              "      <td>0.000000</td>\n",
              "      <td>0.0</td>\n",
              "      <td>0.000000</td>\n",
              "      <td>0.00</td>\n",
              "      <td>0.000000</td>\n",
              "      <td>0.000000</td>\n",
              "      <td>0.000000</td>\n",
              "      <td>0.000000</td>\n",
              "      <td>0.0</td>\n",
              "      <td>...</td>\n",
              "      <td>0.000000</td>\n",
              "      <td>0.941129</td>\n",
              "      <td>-0.256623</td>\n",
              "      <td>59040.0</td>\n",
              "      <td>0.500000</td>\n",
              "      <td>0.050000</td>\n",
              "      <td>0</td>\n",
              "      <td>1</td>\n",
              "      <td>0</td>\n",
              "      <td>1</td>\n",
              "    </tr>\n",
              "    <tr>\n",
              "      <th>1</th>\n",
              "      <td>0.000000</td>\n",
              "      <td>0.000000</td>\n",
              "      <td>0.0</td>\n",
              "      <td>0.000000</td>\n",
              "      <td>0.00</td>\n",
              "      <td>0.000000</td>\n",
              "      <td>0.000000</td>\n",
              "      <td>0.000000</td>\n",
              "      <td>0.000000</td>\n",
              "      <td>0.0</td>\n",
              "      <td>...</td>\n",
              "      <td>0.666667</td>\n",
              "      <td>0.826847</td>\n",
              "      <td>-0.003797</td>\n",
              "      <td>31680.0</td>\n",
              "      <td>0.500000</td>\n",
              "      <td>0.045455</td>\n",
              "      <td>0</td>\n",
              "      <td>1</td>\n",
              "      <td>0</td>\n",
              "      <td>1</td>\n",
              "    </tr>\n",
              "    <tr>\n",
              "      <th>2</th>\n",
              "      <td>0.020000</td>\n",
              "      <td>0.020000</td>\n",
              "      <td>0.0</td>\n",
              "      <td>0.000000</td>\n",
              "      <td>0.02</td>\n",
              "      <td>0.000000</td>\n",
              "      <td>0.020000</td>\n",
              "      <td>0.020000</td>\n",
              "      <td>0.000000</td>\n",
              "      <td>0.0</td>\n",
              "      <td>...</td>\n",
              "      <td>0.500000</td>\n",
              "      <td>0.818388</td>\n",
              "      <td>-0.071782</td>\n",
              "      <td>123760.0</td>\n",
              "      <td>0.333333</td>\n",
              "      <td>0.043478</td>\n",
              "      <td>0</td>\n",
              "      <td>1</td>\n",
              "      <td>1</td>\n",
              "      <td>2</td>\n",
              "    </tr>\n",
              "    <tr>\n",
              "      <th>3</th>\n",
              "      <td>0.000000</td>\n",
              "      <td>0.000000</td>\n",
              "      <td>0.0</td>\n",
              "      <td>0.125000</td>\n",
              "      <td>0.00</td>\n",
              "      <td>0.000000</td>\n",
              "      <td>0.000000</td>\n",
              "      <td>0.000000</td>\n",
              "      <td>0.000000</td>\n",
              "      <td>0.0</td>\n",
              "      <td>...</td>\n",
              "      <td>0.000000</td>\n",
              "      <td>0.965455</td>\n",
              "      <td>0.019324</td>\n",
              "      <td>480.0</td>\n",
              "      <td>0.333333</td>\n",
              "      <td>0.062500</td>\n",
              "      <td>0</td>\n",
              "      <td>1</td>\n",
              "      <td>0</td>\n",
              "      <td>1</td>\n",
              "    </tr>\n",
              "    <tr>\n",
              "      <th>4</th>\n",
              "      <td>0.078333</td>\n",
              "      <td>0.020000</td>\n",
              "      <td>0.0</td>\n",
              "      <td>0.033333</td>\n",
              "      <td>0.02</td>\n",
              "      <td>0.033333</td>\n",
              "      <td>0.045000</td>\n",
              "      <td>0.045000</td>\n",
              "      <td>0.025000</td>\n",
              "      <td>0.0</td>\n",
              "      <td>...</td>\n",
              "      <td>0.666667</td>\n",
              "      <td>0.913695</td>\n",
              "      <td>-0.570869</td>\n",
              "      <td>880.0</td>\n",
              "      <td>0.500000</td>\n",
              "      <td>0.047619</td>\n",
              "      <td>0</td>\n",
              "      <td>1</td>\n",
              "      <td>0</td>\n",
              "      <td>1</td>\n",
              "    </tr>\n",
              "    <tr>\n",
              "      <th>...</th>\n",
              "      <td>...</td>\n",
              "      <td>...</td>\n",
              "      <td>...</td>\n",
              "      <td>...</td>\n",
              "      <td>...</td>\n",
              "      <td>...</td>\n",
              "      <td>...</td>\n",
              "      <td>...</td>\n",
              "      <td>...</td>\n",
              "      <td>...</td>\n",
              "      <td>...</td>\n",
              "      <td>...</td>\n",
              "      <td>...</td>\n",
              "      <td>...</td>\n",
              "      <td>...</td>\n",
              "      <td>...</td>\n",
              "      <td>...</td>\n",
              "      <td>...</td>\n",
              "      <td>...</td>\n",
              "      <td>...</td>\n",
              "      <td>...</td>\n",
              "    </tr>\n",
              "    <tr>\n",
              "      <th>199995</th>\n",
              "      <td>0.000000</td>\n",
              "      <td>0.050000</td>\n",
              "      <td>0.0</td>\n",
              "      <td>0.000000</td>\n",
              "      <td>0.00</td>\n",
              "      <td>0.000000</td>\n",
              "      <td>0.050000</td>\n",
              "      <td>0.000000</td>\n",
              "      <td>0.000000</td>\n",
              "      <td>0.0</td>\n",
              "      <td>...</td>\n",
              "      <td>0.500000</td>\n",
              "      <td>0.957222</td>\n",
              "      <td>-0.028747</td>\n",
              "      <td>378.0</td>\n",
              "      <td>0.500000</td>\n",
              "      <td>0.050000</td>\n",
              "      <td>0</td>\n",
              "      <td>1</td>\n",
              "      <td>0</td>\n",
              "      <td>1</td>\n",
              "    </tr>\n",
              "    <tr>\n",
              "      <th>199996</th>\n",
              "      <td>0.016667</td>\n",
              "      <td>0.016667</td>\n",
              "      <td>0.0</td>\n",
              "      <td>0.000000</td>\n",
              "      <td>0.00</td>\n",
              "      <td>0.083333</td>\n",
              "      <td>0.058333</td>\n",
              "      <td>0.016667</td>\n",
              "      <td>0.058333</td>\n",
              "      <td>0.0</td>\n",
              "      <td>...</td>\n",
              "      <td>0.666667</td>\n",
              "      <td>0.868705</td>\n",
              "      <td>-0.034454</td>\n",
              "      <td>8820.0</td>\n",
              "      <td>0.500000</td>\n",
              "      <td>0.050000</td>\n",
              "      <td>0</td>\n",
              "      <td>1</td>\n",
              "      <td>1</td>\n",
              "      <td>2</td>\n",
              "    </tr>\n",
              "    <tr>\n",
              "      <th>199997</th>\n",
              "      <td>0.000000</td>\n",
              "      <td>0.000000</td>\n",
              "      <td>0.0</td>\n",
              "      <td>0.000000</td>\n",
              "      <td>0.00</td>\n",
              "      <td>0.000000</td>\n",
              "      <td>0.000000</td>\n",
              "      <td>0.000000</td>\n",
              "      <td>0.000000</td>\n",
              "      <td>0.0</td>\n",
              "      <td>...</td>\n",
              "      <td>0.000000</td>\n",
              "      <td>0.947203</td>\n",
              "      <td>-0.125161</td>\n",
              "      <td>2730.0</td>\n",
              "      <td>0.500000</td>\n",
              "      <td>0.041667</td>\n",
              "      <td>1</td>\n",
              "      <td>2</td>\n",
              "      <td>1</td>\n",
              "      <td>2</td>\n",
              "    </tr>\n",
              "    <tr>\n",
              "      <th>199998</th>\n",
              "      <td>0.000000</td>\n",
              "      <td>0.050000</td>\n",
              "      <td>0.0</td>\n",
              "      <td>0.000000</td>\n",
              "      <td>0.00</td>\n",
              "      <td>0.100000</td>\n",
              "      <td>0.050000</td>\n",
              "      <td>0.000000</td>\n",
              "      <td>0.000000</td>\n",
              "      <td>0.0</td>\n",
              "      <td>...</td>\n",
              "      <td>0.000000</td>\n",
              "      <td>0.826061</td>\n",
              "      <td>-0.173908</td>\n",
              "      <td>40.0</td>\n",
              "      <td>0.333333</td>\n",
              "      <td>0.058824</td>\n",
              "      <td>0</td>\n",
              "      <td>1</td>\n",
              "      <td>0</td>\n",
              "      <td>1</td>\n",
              "    </tr>\n",
              "    <tr>\n",
              "      <th>199999</th>\n",
              "      <td>0.000000</td>\n",
              "      <td>0.000000</td>\n",
              "      <td>0.0</td>\n",
              "      <td>0.000000</td>\n",
              "      <td>0.00</td>\n",
              "      <td>0.000000</td>\n",
              "      <td>0.000000</td>\n",
              "      <td>0.000000</td>\n",
              "      <td>0.000000</td>\n",
              "      <td>0.0</td>\n",
              "      <td>...</td>\n",
              "      <td>0.500000</td>\n",
              "      <td>0.917774</td>\n",
              "      <td>-0.613046</td>\n",
              "      <td>57750.0</td>\n",
              "      <td>0.500000</td>\n",
              "      <td>0.037037</td>\n",
              "      <td>0</td>\n",
              "      <td>1</td>\n",
              "      <td>0</td>\n",
              "      <td>1</td>\n",
              "    </tr>\n",
              "  </tbody>\n",
              "</table>\n",
              "<p>200000 rows × 33 columns</p>\n",
              "</div>\n",
              "    <div class=\"colab-df-buttons\">\n",
              "\n",
              "  <div class=\"colab-df-container\">\n",
              "    <button class=\"colab-df-convert\" onclick=\"convertToInteractive('df-39aab0d9-e087-4765-9fb6-9d83bcdb81b9')\"\n",
              "            title=\"Convert this dataframe to an interactive table.\"\n",
              "            style=\"display:none;\">\n",
              "\n",
              "  <svg xmlns=\"http://www.w3.org/2000/svg\" height=\"24px\" viewBox=\"0 -960 960 960\">\n",
              "    <path d=\"M120-120v-720h720v720H120Zm60-500h600v-160H180v160Zm220 220h160v-160H400v160Zm0 220h160v-160H400v160ZM180-400h160v-160H180v160Zm440 0h160v-160H620v160ZM180-180h160v-160H180v160Zm440 0h160v-160H620v160Z\"/>\n",
              "  </svg>\n",
              "    </button>\n",
              "\n",
              "  <style>\n",
              "    .colab-df-container {\n",
              "      display:flex;\n",
              "      gap: 12px;\n",
              "    }\n",
              "\n",
              "    .colab-df-convert {\n",
              "      background-color: #E8F0FE;\n",
              "      border: none;\n",
              "      border-radius: 50%;\n",
              "      cursor: pointer;\n",
              "      display: none;\n",
              "      fill: #1967D2;\n",
              "      height: 32px;\n",
              "      padding: 0 0 0 0;\n",
              "      width: 32px;\n",
              "    }\n",
              "\n",
              "    .colab-df-convert:hover {\n",
              "      background-color: #E2EBFA;\n",
              "      box-shadow: 0px 1px 2px rgba(60, 64, 67, 0.3), 0px 1px 3px 1px rgba(60, 64, 67, 0.15);\n",
              "      fill: #174EA6;\n",
              "    }\n",
              "\n",
              "    .colab-df-buttons div {\n",
              "      margin-bottom: 4px;\n",
              "    }\n",
              "\n",
              "    [theme=dark] .colab-df-convert {\n",
              "      background-color: #3B4455;\n",
              "      fill: #D2E3FC;\n",
              "    }\n",
              "\n",
              "    [theme=dark] .colab-df-convert:hover {\n",
              "      background-color: #434B5C;\n",
              "      box-shadow: 0px 1px 3px 1px rgba(0, 0, 0, 0.15);\n",
              "      filter: drop-shadow(0px 1px 2px rgba(0, 0, 0, 0.3));\n",
              "      fill: #FFFFFF;\n",
              "    }\n",
              "  </style>\n",
              "\n",
              "    <script>\n",
              "      const buttonEl =\n",
              "        document.querySelector('#df-39aab0d9-e087-4765-9fb6-9d83bcdb81b9 button.colab-df-convert');\n",
              "      buttonEl.style.display =\n",
              "        google.colab.kernel.accessAllowed ? 'block' : 'none';\n",
              "\n",
              "      async function convertToInteractive(key) {\n",
              "        const element = document.querySelector('#df-39aab0d9-e087-4765-9fb6-9d83bcdb81b9');\n",
              "        const dataTable =\n",
              "          await google.colab.kernel.invokeFunction('convertToInteractive',\n",
              "                                                    [key], {});\n",
              "        if (!dataTable) return;\n",
              "\n",
              "        const docLinkHtml = 'Like what you see? Visit the ' +\n",
              "          '<a target=\"_blank\" href=https://colab.research.google.com/notebooks/data_table.ipynb>data table notebook</a>'\n",
              "          + ' to learn more about interactive tables.';\n",
              "        element.innerHTML = '';\n",
              "        dataTable['output_type'] = 'display_data';\n",
              "        await google.colab.output.renderOutput(dataTable, element);\n",
              "        const docLink = document.createElement('div');\n",
              "        docLink.innerHTML = docLinkHtml;\n",
              "        element.appendChild(docLink);\n",
              "      }\n",
              "    </script>\n",
              "  </div>\n",
              "\n",
              "\n",
              "<div id=\"df-96f71dc4-307d-46bc-a269-bfd6f079d67b\">\n",
              "  <button class=\"colab-df-quickchart\" onclick=\"quickchart('df-96f71dc4-307d-46bc-a269-bfd6f079d67b')\"\n",
              "            title=\"Suggest charts\"\n",
              "            style=\"display:none;\">\n",
              "\n",
              "<svg xmlns=\"http://www.w3.org/2000/svg\" height=\"24px\"viewBox=\"0 0 24 24\"\n",
              "     width=\"24px\">\n",
              "    <g>\n",
              "        <path d=\"M19 3H5c-1.1 0-2 .9-2 2v14c0 1.1.9 2 2 2h14c1.1 0 2-.9 2-2V5c0-1.1-.9-2-2-2zM9 17H7v-7h2v7zm4 0h-2V7h2v10zm4 0h-2v-4h2v4z\"/>\n",
              "    </g>\n",
              "</svg>\n",
              "  </button>\n",
              "\n",
              "<style>\n",
              "  .colab-df-quickchart {\n",
              "      --bg-color: #E8F0FE;\n",
              "      --fill-color: #1967D2;\n",
              "      --hover-bg-color: #E2EBFA;\n",
              "      --hover-fill-color: #174EA6;\n",
              "      --disabled-fill-color: #AAA;\n",
              "      --disabled-bg-color: #DDD;\n",
              "  }\n",
              "\n",
              "  [theme=dark] .colab-df-quickchart {\n",
              "      --bg-color: #3B4455;\n",
              "      --fill-color: #D2E3FC;\n",
              "      --hover-bg-color: #434B5C;\n",
              "      --hover-fill-color: #FFFFFF;\n",
              "      --disabled-bg-color: #3B4455;\n",
              "      --disabled-fill-color: #666;\n",
              "  }\n",
              "\n",
              "  .colab-df-quickchart {\n",
              "    background-color: var(--bg-color);\n",
              "    border: none;\n",
              "    border-radius: 50%;\n",
              "    cursor: pointer;\n",
              "    display: none;\n",
              "    fill: var(--fill-color);\n",
              "    height: 32px;\n",
              "    padding: 0;\n",
              "    width: 32px;\n",
              "  }\n",
              "\n",
              "  .colab-df-quickchart:hover {\n",
              "    background-color: var(--hover-bg-color);\n",
              "    box-shadow: 0 1px 2px rgba(60, 64, 67, 0.3), 0 1px 3px 1px rgba(60, 64, 67, 0.15);\n",
              "    fill: var(--button-hover-fill-color);\n",
              "  }\n",
              "\n",
              "  .colab-df-quickchart-complete:disabled,\n",
              "  .colab-df-quickchart-complete:disabled:hover {\n",
              "    background-color: var(--disabled-bg-color);\n",
              "    fill: var(--disabled-fill-color);\n",
              "    box-shadow: none;\n",
              "  }\n",
              "\n",
              "  .colab-df-spinner {\n",
              "    border: 2px solid var(--fill-color);\n",
              "    border-color: transparent;\n",
              "    border-bottom-color: var(--fill-color);\n",
              "    animation:\n",
              "      spin 1s steps(1) infinite;\n",
              "  }\n",
              "\n",
              "  @keyframes spin {\n",
              "    0% {\n",
              "      border-color: transparent;\n",
              "      border-bottom-color: var(--fill-color);\n",
              "      border-left-color: var(--fill-color);\n",
              "    }\n",
              "    20% {\n",
              "      border-color: transparent;\n",
              "      border-left-color: var(--fill-color);\n",
              "      border-top-color: var(--fill-color);\n",
              "    }\n",
              "    30% {\n",
              "      border-color: transparent;\n",
              "      border-left-color: var(--fill-color);\n",
              "      border-top-color: var(--fill-color);\n",
              "      border-right-color: var(--fill-color);\n",
              "    }\n",
              "    40% {\n",
              "      border-color: transparent;\n",
              "      border-right-color: var(--fill-color);\n",
              "      border-top-color: var(--fill-color);\n",
              "    }\n",
              "    60% {\n",
              "      border-color: transparent;\n",
              "      border-right-color: var(--fill-color);\n",
              "    }\n",
              "    80% {\n",
              "      border-color: transparent;\n",
              "      border-right-color: var(--fill-color);\n",
              "      border-bottom-color: var(--fill-color);\n",
              "    }\n",
              "    90% {\n",
              "      border-color: transparent;\n",
              "      border-bottom-color: var(--fill-color);\n",
              "    }\n",
              "  }\n",
              "</style>\n",
              "\n",
              "  <script>\n",
              "    async function quickchart(key) {\n",
              "      const quickchartButtonEl =\n",
              "        document.querySelector('#' + key + ' button');\n",
              "      quickchartButtonEl.disabled = true;  // To prevent multiple clicks.\n",
              "      quickchartButtonEl.classList.add('colab-df-spinner');\n",
              "      try {\n",
              "        const charts = await google.colab.kernel.invokeFunction(\n",
              "            'suggestCharts', [key], {});\n",
              "      } catch (error) {\n",
              "        console.error('Error during call to suggestCharts:', error);\n",
              "      }\n",
              "      quickchartButtonEl.classList.remove('colab-df-spinner');\n",
              "      quickchartButtonEl.classList.add('colab-df-quickchart-complete');\n",
              "    }\n",
              "    (() => {\n",
              "      let quickchartButtonEl =\n",
              "        document.querySelector('#df-96f71dc4-307d-46bc-a269-bfd6f079d67b button');\n",
              "      quickchartButtonEl.style.display =\n",
              "        google.colab.kernel.accessAllowed ? 'block' : 'none';\n",
              "    })();\n",
              "  </script>\n",
              "</div>\n",
              "    </div>\n",
              "  </div>\n"
            ]
          },
          "metadata": {},
          "execution_count": 13
        }
      ]
    },
    {
      "cell_type": "code",
      "source": [
        "train_data_X, test_data_X, train_data_Y, test_data_Y = train_test_split(combined_features, labels, test_size=0.3)"
      ],
      "metadata": {
        "id": "OwGE-OljDVTZ"
      },
      "execution_count": 13,
      "outputs": []
    },
    {
      "cell_type": "code",
      "source": [
        "model = sklearn.ensemble.GradientBoostingClassifier(n_estimators=2)\n",
        "model.fit(train_data_X, train_data_Y)\n",
        "\n",
        "preds = model.predict(test_data_X)\n",
        "print(classification_report(preds, test_data_Y))"
      ],
      "metadata": {
        "colab": {
          "base_uri": "https://localhost:8080/"
        },
        "id": "daNq73cYEfwC",
        "outputId": "d1f0d9f1-b235-4891-c1ba-c68bf02d73bf"
      },
      "execution_count": 15,
      "outputs": [
        {
          "output_type": "stream",
          "name": "stdout",
          "text": [
            "              precision    recall  f1-score   support\n",
            "\n",
            "       False       0.43      0.66      0.52     19532\n",
            "        True       0.78      0.57      0.66     40468\n",
            "\n",
            "    accuracy                           0.60     60000\n",
            "   macro avg       0.60      0.62      0.59     60000\n",
            "weighted avg       0.66      0.60      0.62     60000\n",
            "\n"
          ]
        }
      ]
    },
    {
      "cell_type": "code",
      "source": [
        "# SHAP Explainer\n",
        "explainer = shap.Explainer(model.predict, test_data_X)\n",
        "shap_values = explainer(test_data_X)"
      ],
      "metadata": {
        "colab": {
          "base_uri": "https://localhost:8080/"
        },
        "id": "Dg5VEsyhE1pE",
        "outputId": "07e72011-69a1-4463-ceb6-2292e2ea3c6c"
      },
      "execution_count": 16,
      "outputs": [
        {
          "output_type": "stream",
          "name": "stderr",
          "text": [
            "ExactExplainer explainer: 60001it [18:39, 53.42it/s]                           \n"
          ]
        }
      ]
    },
    {
      "cell_type": "code",
      "source": [
        "shap.summary_plot(shap_values, max_display=15, show=False)"
      ],
      "metadata": {
        "colab": {
          "base_uri": "https://localhost:8080/",
          "height": 557
        },
        "id": "IYRhM3DBFFPf",
        "outputId": "12c1f01f-e5bd-4001-e2de-80e7b27085be"
      },
      "execution_count": 20,
      "outputs": [
        {
          "output_type": "display_data",
          "data": {
            "text/plain": [
              "<Figure size 800x550 with 2 Axes>"
            ],
            "image/png": "[encoded data removed]"
          },
          "metadata": {}
        }
      ]
    },
    {
      "cell_type": "code",
      "source": [
        "shap.summary_plot(shap_values, max_display=40, show=False, plot_type='bar')"
      ],
      "metadata": {
        "colab": {
          "base_uri": "https://localhost:8080/",
          "height": 557
        },
        "id": "rYSmD6lMFTBV",
        "outputId": "4b31ddab-cc37-4833-9248-507ee7ee2167"
      },
      "execution_count": 19,
      "outputs": [
        {
          "output_type": "display_data",
          "data": {
            "text/plain": [
              "<Figure size 800x550 with 1 Axes>"
            ],
            "image/png": "[encoded data removed]"
          },
          "metadata": {}
        }
      ]
    }
  ],
  "metadata": {
    "colab": {
      "provenance": []
    },
    "kernelspec": {
      "display_name": "Python 3",
      "name": "python3"
    },
    "language_info": {
      "name": "python"
    }
  },
  "nbformat": 4,
  "nbformat_minor": 0
}